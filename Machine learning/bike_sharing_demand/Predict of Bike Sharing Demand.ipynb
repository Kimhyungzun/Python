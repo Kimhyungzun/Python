{
 "cells": [
  {
   "cell_type": "markdown",
   "id": "1f1a42bc",
   "metadata": {},
   "source": [
    "# RandomForest를 활용한 자전거 대여량 예측하기"
   ]
  },
  {
   "cell_type": "code",
   "execution_count": 1,
   "id": "e323ed43",
   "metadata": {},
   "outputs": [],
   "source": [
    "import numpy as np\n",
    "import pandas as pd\n",
    "import matplotlib.pyplot as plt\n",
    "import seaborn as sns\n",
    "import os\n",
    "import datetime"
   ]
  },
  {
   "cell_type": "code",
   "execution_count": 2,
   "id": "42cad637",
   "metadata": {},
   "outputs": [],
   "source": [
    "from tensorflow.keras import datasets, layers, models"
   ]
  },
  {
   "cell_type": "code",
   "execution_count": 3,
   "id": "4f279e34",
   "metadata": {},
   "outputs": [
    {
     "name": "stdout",
     "output_type": "stream",
     "text": [
      "['sampleSubmission.csv', 'test.csv', 'train.csv']\n"
     ]
    }
   ],
   "source": [
    "path = \"data/\"\n",
    "print(os.listdir(\"data/\"))"
   ]
  },
  {
   "cell_type": "markdown",
   "id": "f5d42249",
   "metadata": {},
   "source": [
    "# load data"
   ]
  },
  {
   "cell_type": "code",
   "execution_count": 4,
   "id": "0d936772",
   "metadata": {},
   "outputs": [],
   "source": [
    "df_train_eda = pd.read_csv(path + \"train.csv\", parse_dates = ['datetime'],\n",
    "                         index_col='datetime', infer_datetime_format=True)\n",
    "df_test = pd.read_csv(path + 'test.csv', parse_dates = ['datetime'],\n",
    "                        index_col='datetime', infer_datetime_format=True)\n",
    "df_submission = pd.read_csv(path+'sampleSubmission.csv', parse_dates = ['datetime'],\n",
    "                        index_col='datetime', infer_datetime_format=True)"
   ]
  },
  {
   "cell_type": "markdown",
   "id": "e67fd86f",
   "metadata": {},
   "source": [
    "# Columns "
   ]
  },
  {
   "cell_type": "markdown",
   "id": "b85a17e9",
   "metadata": {},
   "source": [
    "- datetime : 시간별 날짜\n",
    "- season :  \n",
    "  1.(1분기)  \n",
    "  2.(2분기)   \n",
    "  3.(3분기)  \n",
    "  4.(4분기)\n",
    "- holiday : 하루가 휴일로 간주되는지 여부\n",
    "- workingday : 주말과 휴일이 아닌 일하는 날\n",
    "- weather :   \n",
    "  1.(맑음, 구름, 조금, 흐림)  \n",
    "  2.(안개+흐림, 안개+구름, 안개+구름이 거의 없음 + 흐림)  \n",
    "  3.(가벼운 눈, 가벼운 비 + 천둥 + 구름, 가벼운 비 + 구름)  \n",
    "  4.(폭우 + 우박 + 천둥 + 안개, 눈 + 안개)\n",
    "- temp : 섭씨 온도\n",
    "- atemp : 섭씨 온도의 느낌\n",
    "- humidity : 상대 습도\n",
    "- windspeed : 풍속\n",
    "- casual : 미등록 사용자 대여수\n",
    "- registered : 등록된 사용자 대여수\n",
    "- count : 대여수\n",
    "\n",
    " "
   ]
  },
  {
   "cell_type": "code",
   "execution_count": 5,
   "id": "84a6e781",
   "metadata": {},
   "outputs": [
    {
     "data": {
      "text/html": [
       "<div>\n",
       "<style scoped>\n",
       "    .dataframe tbody tr th:only-of-type {\n",
       "        vertical-align: middle;\n",
       "    }\n",
       "\n",
       "    .dataframe tbody tr th {\n",
       "        vertical-align: top;\n",
       "    }\n",
       "\n",
       "    .dataframe thead th {\n",
       "        text-align: right;\n",
       "    }\n",
       "</style>\n",
       "<table border=\"1\" class=\"dataframe\">\n",
       "  <thead>\n",
       "    <tr style=\"text-align: right;\">\n",
       "      <th></th>\n",
       "      <th>season</th>\n",
       "      <th>holiday</th>\n",
       "      <th>workingday</th>\n",
       "      <th>weather</th>\n",
       "      <th>temp</th>\n",
       "      <th>atemp</th>\n",
       "      <th>humidity</th>\n",
       "      <th>windspeed</th>\n",
       "      <th>casual</th>\n",
       "      <th>registered</th>\n",
       "      <th>count</th>\n",
       "    </tr>\n",
       "    <tr>\n",
       "      <th>datetime</th>\n",
       "      <th></th>\n",
       "      <th></th>\n",
       "      <th></th>\n",
       "      <th></th>\n",
       "      <th></th>\n",
       "      <th></th>\n",
       "      <th></th>\n",
       "      <th></th>\n",
       "      <th></th>\n",
       "      <th></th>\n",
       "      <th></th>\n",
       "    </tr>\n",
       "  </thead>\n",
       "  <tbody>\n",
       "    <tr>\n",
       "      <th>2011-01-01 00:00:00</th>\n",
       "      <td>1</td>\n",
       "      <td>0</td>\n",
       "      <td>0</td>\n",
       "      <td>1</td>\n",
       "      <td>9.84</td>\n",
       "      <td>14.395</td>\n",
       "      <td>81</td>\n",
       "      <td>0.0</td>\n",
       "      <td>3</td>\n",
       "      <td>13</td>\n",
       "      <td>16</td>\n",
       "    </tr>\n",
       "    <tr>\n",
       "      <th>2011-01-01 01:00:00</th>\n",
       "      <td>1</td>\n",
       "      <td>0</td>\n",
       "      <td>0</td>\n",
       "      <td>1</td>\n",
       "      <td>9.02</td>\n",
       "      <td>13.635</td>\n",
       "      <td>80</td>\n",
       "      <td>0.0</td>\n",
       "      <td>8</td>\n",
       "      <td>32</td>\n",
       "      <td>40</td>\n",
       "    </tr>\n",
       "    <tr>\n",
       "      <th>2011-01-01 02:00:00</th>\n",
       "      <td>1</td>\n",
       "      <td>0</td>\n",
       "      <td>0</td>\n",
       "      <td>1</td>\n",
       "      <td>9.02</td>\n",
       "      <td>13.635</td>\n",
       "      <td>80</td>\n",
       "      <td>0.0</td>\n",
       "      <td>5</td>\n",
       "      <td>27</td>\n",
       "      <td>32</td>\n",
       "    </tr>\n",
       "  </tbody>\n",
       "</table>\n",
       "</div>"
      ],
      "text/plain": [
       "                     season  holiday  workingday  weather  temp   atemp  \\\n",
       "datetime                                                                  \n",
       "2011-01-01 00:00:00       1        0           0        1  9.84  14.395   \n",
       "2011-01-01 01:00:00       1        0           0        1  9.02  13.635   \n",
       "2011-01-01 02:00:00       1        0           0        1  9.02  13.635   \n",
       "\n",
       "                     humidity  windspeed  casual  registered  count  \n",
       "datetime                                                             \n",
       "2011-01-01 00:00:00        81        0.0       3          13     16  \n",
       "2011-01-01 01:00:00        80        0.0       8          32     40  \n",
       "2011-01-01 02:00:00        80        0.0       5          27     32  "
      ]
     },
     "execution_count": 5,
     "metadata": {},
     "output_type": "execute_result"
    }
   ],
   "source": [
    "df_train_eda.head(3)"
   ]
  },
  {
   "cell_type": "code",
   "execution_count": 6,
   "id": "71b064b1",
   "metadata": {},
   "outputs": [
    {
     "data": {
      "text/html": [
       "<div>\n",
       "<style scoped>\n",
       "    .dataframe tbody tr th:only-of-type {\n",
       "        vertical-align: middle;\n",
       "    }\n",
       "\n",
       "    .dataframe tbody tr th {\n",
       "        vertical-align: top;\n",
       "    }\n",
       "\n",
       "    .dataframe thead th {\n",
       "        text-align: right;\n",
       "    }\n",
       "</style>\n",
       "<table border=\"1\" class=\"dataframe\">\n",
       "  <thead>\n",
       "    <tr style=\"text-align: right;\">\n",
       "      <th></th>\n",
       "      <th>season</th>\n",
       "      <th>holiday</th>\n",
       "      <th>workingday</th>\n",
       "      <th>weather</th>\n",
       "      <th>temp</th>\n",
       "      <th>atemp</th>\n",
       "      <th>humidity</th>\n",
       "      <th>windspeed</th>\n",
       "    </tr>\n",
       "    <tr>\n",
       "      <th>datetime</th>\n",
       "      <th></th>\n",
       "      <th></th>\n",
       "      <th></th>\n",
       "      <th></th>\n",
       "      <th></th>\n",
       "      <th></th>\n",
       "      <th></th>\n",
       "      <th></th>\n",
       "    </tr>\n",
       "  </thead>\n",
       "  <tbody>\n",
       "    <tr>\n",
       "      <th>2011-01-20 00:00:00</th>\n",
       "      <td>1</td>\n",
       "      <td>0</td>\n",
       "      <td>1</td>\n",
       "      <td>1</td>\n",
       "      <td>10.66</td>\n",
       "      <td>11.365</td>\n",
       "      <td>56</td>\n",
       "      <td>26.0027</td>\n",
       "    </tr>\n",
       "    <tr>\n",
       "      <th>2011-01-20 01:00:00</th>\n",
       "      <td>1</td>\n",
       "      <td>0</td>\n",
       "      <td>1</td>\n",
       "      <td>1</td>\n",
       "      <td>10.66</td>\n",
       "      <td>13.635</td>\n",
       "      <td>56</td>\n",
       "      <td>0.0000</td>\n",
       "    </tr>\n",
       "    <tr>\n",
       "      <th>2011-01-20 02:00:00</th>\n",
       "      <td>1</td>\n",
       "      <td>0</td>\n",
       "      <td>1</td>\n",
       "      <td>1</td>\n",
       "      <td>10.66</td>\n",
       "      <td>13.635</td>\n",
       "      <td>56</td>\n",
       "      <td>0.0000</td>\n",
       "    </tr>\n",
       "  </tbody>\n",
       "</table>\n",
       "</div>"
      ],
      "text/plain": [
       "                     season  holiday  workingday  weather   temp   atemp  \\\n",
       "datetime                                                                   \n",
       "2011-01-20 00:00:00       1        0           1        1  10.66  11.365   \n",
       "2011-01-20 01:00:00       1        0           1        1  10.66  13.635   \n",
       "2011-01-20 02:00:00       1        0           1        1  10.66  13.635   \n",
       "\n",
       "                     humidity  windspeed  \n",
       "datetime                                  \n",
       "2011-01-20 00:00:00        56    26.0027  \n",
       "2011-01-20 01:00:00        56     0.0000  \n",
       "2011-01-20 02:00:00        56     0.0000  "
      ]
     },
     "execution_count": 6,
     "metadata": {},
     "output_type": "execute_result"
    }
   ],
   "source": [
    "df_test.head(3)"
   ]
  },
  {
   "cell_type": "code",
   "execution_count": 7,
   "id": "74bfcbc8",
   "metadata": {},
   "outputs": [
    {
     "data": {
      "text/html": [
       "<div>\n",
       "<style scoped>\n",
       "    .dataframe tbody tr th:only-of-type {\n",
       "        vertical-align: middle;\n",
       "    }\n",
       "\n",
       "    .dataframe tbody tr th {\n",
       "        vertical-align: top;\n",
       "    }\n",
       "\n",
       "    .dataframe thead th {\n",
       "        text-align: right;\n",
       "    }\n",
       "</style>\n",
       "<table border=\"1\" class=\"dataframe\">\n",
       "  <thead>\n",
       "    <tr style=\"text-align: right;\">\n",
       "      <th></th>\n",
       "      <th>count</th>\n",
       "    </tr>\n",
       "    <tr>\n",
       "      <th>datetime</th>\n",
       "      <th></th>\n",
       "    </tr>\n",
       "  </thead>\n",
       "  <tbody>\n",
       "    <tr>\n",
       "      <th>2011-01-20 00:00:00</th>\n",
       "      <td>0</td>\n",
       "    </tr>\n",
       "    <tr>\n",
       "      <th>2011-01-20 01:00:00</th>\n",
       "      <td>0</td>\n",
       "    </tr>\n",
       "    <tr>\n",
       "      <th>2011-01-20 02:00:00</th>\n",
       "      <td>0</td>\n",
       "    </tr>\n",
       "  </tbody>\n",
       "</table>\n",
       "</div>"
      ],
      "text/plain": [
       "                     count\n",
       "datetime                  \n",
       "2011-01-20 00:00:00      0\n",
       "2011-01-20 01:00:00      0\n",
       "2011-01-20 02:00:00      0"
      ]
     },
     "execution_count": 7,
     "metadata": {},
     "output_type": "execute_result"
    }
   ],
   "source": [
    "df_submission.head(3)"
   ]
  },
  {
   "cell_type": "markdown",
   "id": "4b37f02e",
   "metadata": {},
   "source": [
    "# EDA"
   ]
  },
  {
   "cell_type": "markdown",
   "id": "8ca68f6a",
   "metadata": {},
   "source": [
    "## 데이터 타입 확인"
   ]
  },
  {
   "cell_type": "code",
   "execution_count": 8,
   "id": "947b428a",
   "metadata": {},
   "outputs": [
    {
     "name": "stdout",
     "output_type": "stream",
     "text": [
      "(10886, 11) (6493, 8)\n",
      "훈련 데이터\n",
      "season          int64\n",
      "holiday         int64\n",
      "workingday      int64\n",
      "weather         int64\n",
      "temp          float64\n",
      "atemp         float64\n",
      "humidity        int64\n",
      "windspeed     float64\n",
      "casual          int64\n",
      "registered      int64\n",
      "count           int64\n",
      "dtype: object\n",
      "테스트 데이터\n",
      "season          int64\n",
      "holiday         int64\n",
      "workingday      int64\n",
      "weather         int64\n",
      "temp          float64\n",
      "atemp         float64\n",
      "humidity        int64\n",
      "windspeed     float64\n",
      "dtype: object\n"
     ]
    }
   ],
   "source": [
    "print(df_train_eda.shape, df_test.shape)\n",
    "print(\"훈련 데이터\")\n",
    "print(df_train_eda.dtypes)\n",
    "print(\"테스트 데이터\")\n",
    "print(df_test.dtypes)"
   ]
  },
  {
   "cell_type": "markdown",
   "id": "c390818a",
   "metadata": {},
   "source": [
    "## 결측치 확인"
   ]
  },
  {
   "cell_type": "code",
   "execution_count": 9,
   "id": "00fe19e3",
   "metadata": {},
   "outputs": [
    {
     "name": "stdout",
     "output_type": "stream",
     "text": [
      "season        0\n",
      "holiday       0\n",
      "workingday    0\n",
      "weather       0\n",
      "temp          0\n",
      "atemp         0\n",
      "humidity      0\n",
      "windspeed     0\n",
      "casual        0\n",
      "registered    0\n",
      "count         0\n",
      "dtype: int64\n"
     ]
    }
   ],
   "source": [
    "print(df_train_eda.isnull().sum())"
   ]
  },
  {
   "cell_type": "code",
   "execution_count": 10,
   "id": "f131c8f3",
   "metadata": {},
   "outputs": [
    {
     "name": "stdout",
     "output_type": "stream",
     "text": [
      "season        0\n",
      "holiday       0\n",
      "workingday    0\n",
      "weather       0\n",
      "temp          0\n",
      "atemp         0\n",
      "humidity      0\n",
      "windspeed     0\n",
      "dtype: int64\n"
     ]
    }
   ],
   "source": [
    "print(df_test.isnull().sum())"
   ]
  },
  {
   "cell_type": "code",
   "execution_count": 11,
   "id": "061c132d",
   "metadata": {},
   "outputs": [
    {
     "name": "stdout",
     "output_type": "stream",
     "text": [
      "count    0\n",
      "dtype: int64\n"
     ]
    }
   ],
   "source": [
    "print(df_submission.isnull().sum())"
   ]
  },
  {
   "cell_type": "markdown",
   "id": "1d830d61",
   "metadata": {},
   "source": [
    "## datetime 에서 년,월,일,시간,분,초를 추출해 column 추가"
   ]
  },
  {
   "cell_type": "code",
   "execution_count": 12,
   "id": "83e281e1",
   "metadata": {},
   "outputs": [],
   "source": [
    "df_train_eda['year'] = df_train_eda.index.year"
   ]
  },
  {
   "cell_type": "code",
   "execution_count": 13,
   "id": "ed38d2c9",
   "metadata": {},
   "outputs": [],
   "source": [
    "df_train_eda['year'] = df_train_eda.index.year\n",
    "df_train_eda['month'] = df_train_eda.index.month\n",
    "df_train_eda['day'] = df_train_eda.index.day\n",
    "df_train_eda['hour'] = df_train_eda.index.hour\n",
    "df_train_eda['minute'] = df_train_eda.index.minute\n",
    "df_train_eda['second'] = df_train_eda.index.second"
   ]
  },
  {
   "cell_type": "code",
   "execution_count": 14,
   "id": "58028cf5",
   "metadata": {},
   "outputs": [
    {
     "data": {
      "text/html": [
       "<div>\n",
       "<style scoped>\n",
       "    .dataframe tbody tr th:only-of-type {\n",
       "        vertical-align: middle;\n",
       "    }\n",
       "\n",
       "    .dataframe tbody tr th {\n",
       "        vertical-align: top;\n",
       "    }\n",
       "\n",
       "    .dataframe thead th {\n",
       "        text-align: right;\n",
       "    }\n",
       "</style>\n",
       "<table border=\"1\" class=\"dataframe\">\n",
       "  <thead>\n",
       "    <tr style=\"text-align: right;\">\n",
       "      <th></th>\n",
       "      <th>season</th>\n",
       "      <th>holiday</th>\n",
       "      <th>workingday</th>\n",
       "      <th>weather</th>\n",
       "      <th>temp</th>\n",
       "      <th>atemp</th>\n",
       "      <th>humidity</th>\n",
       "      <th>windspeed</th>\n",
       "      <th>casual</th>\n",
       "      <th>registered</th>\n",
       "      <th>count</th>\n",
       "      <th>year</th>\n",
       "      <th>month</th>\n",
       "      <th>day</th>\n",
       "      <th>hour</th>\n",
       "      <th>minute</th>\n",
       "      <th>second</th>\n",
       "    </tr>\n",
       "    <tr>\n",
       "      <th>datetime</th>\n",
       "      <th></th>\n",
       "      <th></th>\n",
       "      <th></th>\n",
       "      <th></th>\n",
       "      <th></th>\n",
       "      <th></th>\n",
       "      <th></th>\n",
       "      <th></th>\n",
       "      <th></th>\n",
       "      <th></th>\n",
       "      <th></th>\n",
       "      <th></th>\n",
       "      <th></th>\n",
       "      <th></th>\n",
       "      <th></th>\n",
       "      <th></th>\n",
       "      <th></th>\n",
       "    </tr>\n",
       "  </thead>\n",
       "  <tbody>\n",
       "    <tr>\n",
       "      <th>2011-01-01 00:00:00</th>\n",
       "      <td>1</td>\n",
       "      <td>0</td>\n",
       "      <td>0</td>\n",
       "      <td>1</td>\n",
       "      <td>9.84</td>\n",
       "      <td>14.395</td>\n",
       "      <td>81</td>\n",
       "      <td>0.0</td>\n",
       "      <td>3</td>\n",
       "      <td>13</td>\n",
       "      <td>16</td>\n",
       "      <td>2011</td>\n",
       "      <td>1</td>\n",
       "      <td>1</td>\n",
       "      <td>0</td>\n",
       "      <td>0</td>\n",
       "      <td>0</td>\n",
       "    </tr>\n",
       "    <tr>\n",
       "      <th>2011-01-01 01:00:00</th>\n",
       "      <td>1</td>\n",
       "      <td>0</td>\n",
       "      <td>0</td>\n",
       "      <td>1</td>\n",
       "      <td>9.02</td>\n",
       "      <td>13.635</td>\n",
       "      <td>80</td>\n",
       "      <td>0.0</td>\n",
       "      <td>8</td>\n",
       "      <td>32</td>\n",
       "      <td>40</td>\n",
       "      <td>2011</td>\n",
       "      <td>1</td>\n",
       "      <td>1</td>\n",
       "      <td>1</td>\n",
       "      <td>0</td>\n",
       "      <td>0</td>\n",
       "    </tr>\n",
       "    <tr>\n",
       "      <th>2011-01-01 02:00:00</th>\n",
       "      <td>1</td>\n",
       "      <td>0</td>\n",
       "      <td>0</td>\n",
       "      <td>1</td>\n",
       "      <td>9.02</td>\n",
       "      <td>13.635</td>\n",
       "      <td>80</td>\n",
       "      <td>0.0</td>\n",
       "      <td>5</td>\n",
       "      <td>27</td>\n",
       "      <td>32</td>\n",
       "      <td>2011</td>\n",
       "      <td>1</td>\n",
       "      <td>1</td>\n",
       "      <td>2</td>\n",
       "      <td>0</td>\n",
       "      <td>0</td>\n",
       "    </tr>\n",
       "    <tr>\n",
       "      <th>2011-01-01 03:00:00</th>\n",
       "      <td>1</td>\n",
       "      <td>0</td>\n",
       "      <td>0</td>\n",
       "      <td>1</td>\n",
       "      <td>9.84</td>\n",
       "      <td>14.395</td>\n",
       "      <td>75</td>\n",
       "      <td>0.0</td>\n",
       "      <td>3</td>\n",
       "      <td>10</td>\n",
       "      <td>13</td>\n",
       "      <td>2011</td>\n",
       "      <td>1</td>\n",
       "      <td>1</td>\n",
       "      <td>3</td>\n",
       "      <td>0</td>\n",
       "      <td>0</td>\n",
       "    </tr>\n",
       "    <tr>\n",
       "      <th>2011-01-01 04:00:00</th>\n",
       "      <td>1</td>\n",
       "      <td>0</td>\n",
       "      <td>0</td>\n",
       "      <td>1</td>\n",
       "      <td>9.84</td>\n",
       "      <td>14.395</td>\n",
       "      <td>75</td>\n",
       "      <td>0.0</td>\n",
       "      <td>0</td>\n",
       "      <td>1</td>\n",
       "      <td>1</td>\n",
       "      <td>2011</td>\n",
       "      <td>1</td>\n",
       "      <td>1</td>\n",
       "      <td>4</td>\n",
       "      <td>0</td>\n",
       "      <td>0</td>\n",
       "    </tr>\n",
       "  </tbody>\n",
       "</table>\n",
       "</div>"
      ],
      "text/plain": [
       "                     season  holiday  workingday  weather  temp   atemp  \\\n",
       "datetime                                                                  \n",
       "2011-01-01 00:00:00       1        0           0        1  9.84  14.395   \n",
       "2011-01-01 01:00:00       1        0           0        1  9.02  13.635   \n",
       "2011-01-01 02:00:00       1        0           0        1  9.02  13.635   \n",
       "2011-01-01 03:00:00       1        0           0        1  9.84  14.395   \n",
       "2011-01-01 04:00:00       1        0           0        1  9.84  14.395   \n",
       "\n",
       "                     humidity  windspeed  casual  registered  count  year  \\\n",
       "datetime                                                                    \n",
       "2011-01-01 00:00:00        81        0.0       3          13     16  2011   \n",
       "2011-01-01 01:00:00        80        0.0       8          32     40  2011   \n",
       "2011-01-01 02:00:00        80        0.0       5          27     32  2011   \n",
       "2011-01-01 03:00:00        75        0.0       3          10     13  2011   \n",
       "2011-01-01 04:00:00        75        0.0       0           1      1  2011   \n",
       "\n",
       "                     month  day  hour  minute  second  \n",
       "datetime                                               \n",
       "2011-01-01 00:00:00      1    1     0       0       0  \n",
       "2011-01-01 01:00:00      1    1     1       0       0  \n",
       "2011-01-01 02:00:00      1    1     2       0       0  \n",
       "2011-01-01 03:00:00      1    1     3       0       0  \n",
       "2011-01-01 04:00:00      1    1     4       0       0  "
      ]
     },
     "execution_count": 14,
     "metadata": {},
     "output_type": "execute_result"
    }
   ],
   "source": [
    "df_train_eda.head()"
   ]
  },
  {
   "cell_type": "markdown",
   "id": "0f029a79",
   "metadata": {},
   "source": [
    "## 연도별, 월별,시간별에 따른 대여량 평균치 분석"
   ]
  },
  {
   "cell_type": "code",
   "execution_count": 15,
   "id": "eb1e50f4",
   "metadata": {},
   "outputs": [],
   "source": [
    "def bar_plot(df, x, ax):\n",
    "    fig = plt.figure(figsize=(5,3))\n",
    "    sns.barplot(data=df, x=x, y=\"count\", palette=\"Blues_d\", ax=ax)"
   ]
  },
  {
   "cell_type": "code",
   "execution_count": 16,
   "id": "dde53426",
   "metadata": {},
   "outputs": [
    {
     "data": {
      "image/png": "[encoded data removed]",
      "text/plain": [
       "<Figure size 1296x720 with 6 Axes>"
      ]
     },
     "metadata": {
      "needs_background": "light"
     },
     "output_type": "display_data"
    },
    {
     "data": {
      "text/plain": [
       "<Figure size 360x216 with 0 Axes>"
      ]
     },
     "metadata": {},
     "output_type": "display_data"
    },
    {
     "data": {
      "text/plain": [
       "<Figure size 360x216 with 0 Axes>"
      ]
     },
     "metadata": {},
     "output_type": "display_data"
    },
    {
     "data": {
      "text/plain": [
       "<Figure size 360x216 with 0 Axes>"
      ]
     },
     "metadata": {},
     "output_type": "display_data"
    },
    {
     "data": {
      "text/plain": [
       "<Figure size 360x216 with 0 Axes>"
      ]
     },
     "metadata": {},
     "output_type": "display_data"
    },
    {
     "data": {
      "text/plain": [
       "<Figure size 360x216 with 0 Axes>"
      ]
     },
     "metadata": {},
     "output_type": "display_data"
    },
    {
     "data": {
      "text/plain": [
       "<Figure size 360x216 with 0 Axes>"
      ]
     },
     "metadata": {},
     "output_type": "display_data"
    }
   ],
   "source": [
    "figure, ((ax1, ax2, ax3), (ax4, ax5, ax6)) = plt.subplots(nrows=2, ncols=3)\n",
    "figure.set_size_inches(18, 10)\n",
    "\n",
    "bar_plot(df_train_eda, \"year\", ax=ax1)\n",
    "bar_plot(df_train_eda, \"month\", ax=ax2)\n",
    "bar_plot(df_train_eda, \"day\", ax=ax3)\n",
    "bar_plot(df_train_eda, \"hour\", ax=ax4)\n",
    "bar_plot(df_train_eda, \"minute\", ax=ax5)\n",
    "bar_plot(df_train_eda, \"second\", ax=ax6)"
   ]
  },
  {
   "cell_type": "markdown",
   "id": "60c6e94b",
   "metadata": {},
   "source": [
    "## 연도별,월별,시간별에 따른 분석 결과"
   ]
  },
  {
   "cell_type": "markdown",
   "id": "90b1c935",
   "metadata": {},
   "source": [
    "- 연도별 : 2011년보다 2012년 대여량이 많아짐  \n",
    "- 월별 : 월별 대여량은 6월에 가장 많고, 따뜻한 계절(5~10월달)에 대여량이 많음\n",
    "- 일별 : 일별 대여량은 크게 차이점이 없고, 특징점 역시 없음.\n",
    "- 시간별 : 오전에는 8시에 가장 많고, 오후에는 17시~18시에 가장 많음"
   ]
  },
  {
   "cell_type": "markdown",
   "id": "6dbd38b1",
   "metadata": {},
   "source": [
    "## datetime을 기반으로 요일 추출"
   ]
  },
  {
   "cell_type": "code",
   "execution_count": 17,
   "id": "8dccc28d",
   "metadata": {},
   "outputs": [
    {
     "data": {
      "text/html": [
       "<div>\n",
       "<style scoped>\n",
       "    .dataframe tbody tr th:only-of-type {\n",
       "        vertical-align: middle;\n",
       "    }\n",
       "\n",
       "    .dataframe tbody tr th {\n",
       "        vertical-align: top;\n",
       "    }\n",
       "\n",
       "    .dataframe thead th {\n",
       "        text-align: right;\n",
       "    }\n",
       "</style>\n",
       "<table border=\"1\" class=\"dataframe\">\n",
       "  <thead>\n",
       "    <tr style=\"text-align: right;\">\n",
       "      <th></th>\n",
       "      <th>season</th>\n",
       "      <th>holiday</th>\n",
       "      <th>workingday</th>\n",
       "      <th>weather</th>\n",
       "      <th>temp</th>\n",
       "      <th>atemp</th>\n",
       "      <th>humidity</th>\n",
       "      <th>windspeed</th>\n",
       "      <th>casual</th>\n",
       "      <th>registered</th>\n",
       "      <th>count</th>\n",
       "      <th>year</th>\n",
       "      <th>month</th>\n",
       "      <th>day</th>\n",
       "      <th>hour</th>\n",
       "      <th>minute</th>\n",
       "      <th>second</th>\n",
       "      <th>dayofweek</th>\n",
       "    </tr>\n",
       "    <tr>\n",
       "      <th>datetime</th>\n",
       "      <th></th>\n",
       "      <th></th>\n",
       "      <th></th>\n",
       "      <th></th>\n",
       "      <th></th>\n",
       "      <th></th>\n",
       "      <th></th>\n",
       "      <th></th>\n",
       "      <th></th>\n",
       "      <th></th>\n",
       "      <th></th>\n",
       "      <th></th>\n",
       "      <th></th>\n",
       "      <th></th>\n",
       "      <th></th>\n",
       "      <th></th>\n",
       "      <th></th>\n",
       "      <th></th>\n",
       "    </tr>\n",
       "  </thead>\n",
       "  <tbody>\n",
       "    <tr>\n",
       "      <th>2011-01-01 00:00:00</th>\n",
       "      <td>1</td>\n",
       "      <td>0</td>\n",
       "      <td>0</td>\n",
       "      <td>1</td>\n",
       "      <td>9.84</td>\n",
       "      <td>14.395</td>\n",
       "      <td>81</td>\n",
       "      <td>0.0</td>\n",
       "      <td>3</td>\n",
       "      <td>13</td>\n",
       "      <td>16</td>\n",
       "      <td>2011</td>\n",
       "      <td>1</td>\n",
       "      <td>1</td>\n",
       "      <td>0</td>\n",
       "      <td>0</td>\n",
       "      <td>0</td>\n",
       "      <td>5</td>\n",
       "    </tr>\n",
       "    <tr>\n",
       "      <th>2011-01-01 01:00:00</th>\n",
       "      <td>1</td>\n",
       "      <td>0</td>\n",
       "      <td>0</td>\n",
       "      <td>1</td>\n",
       "      <td>9.02</td>\n",
       "      <td>13.635</td>\n",
       "      <td>80</td>\n",
       "      <td>0.0</td>\n",
       "      <td>8</td>\n",
       "      <td>32</td>\n",
       "      <td>40</td>\n",
       "      <td>2011</td>\n",
       "      <td>1</td>\n",
       "      <td>1</td>\n",
       "      <td>1</td>\n",
       "      <td>0</td>\n",
       "      <td>0</td>\n",
       "      <td>5</td>\n",
       "    </tr>\n",
       "    <tr>\n",
       "      <th>2011-01-01 02:00:00</th>\n",
       "      <td>1</td>\n",
       "      <td>0</td>\n",
       "      <td>0</td>\n",
       "      <td>1</td>\n",
       "      <td>9.02</td>\n",
       "      <td>13.635</td>\n",
       "      <td>80</td>\n",
       "      <td>0.0</td>\n",
       "      <td>5</td>\n",
       "      <td>27</td>\n",
       "      <td>32</td>\n",
       "      <td>2011</td>\n",
       "      <td>1</td>\n",
       "      <td>1</td>\n",
       "      <td>2</td>\n",
       "      <td>0</td>\n",
       "      <td>0</td>\n",
       "      <td>5</td>\n",
       "    </tr>\n",
       "  </tbody>\n",
       "</table>\n",
       "</div>"
      ],
      "text/plain": [
       "                     season  holiday  workingday  weather  temp   atemp  \\\n",
       "datetime                                                                  \n",
       "2011-01-01 00:00:00       1        0           0        1  9.84  14.395   \n",
       "2011-01-01 01:00:00       1        0           0        1  9.02  13.635   \n",
       "2011-01-01 02:00:00       1        0           0        1  9.02  13.635   \n",
       "\n",
       "                     humidity  windspeed  casual  registered  count  year  \\\n",
       "datetime                                                                    \n",
       "2011-01-01 00:00:00        81        0.0       3          13     16  2011   \n",
       "2011-01-01 01:00:00        80        0.0       8          32     40  2011   \n",
       "2011-01-01 02:00:00        80        0.0       5          27     32  2011   \n",
       "\n",
       "                     month  day  hour  minute  second  dayofweek  \n",
       "datetime                                                          \n",
       "2011-01-01 00:00:00      1    1     0       0       0          5  \n",
       "2011-01-01 01:00:00      1    1     1       0       0          5  \n",
       "2011-01-01 02:00:00      1    1     2       0       0          5  "
      ]
     },
     "execution_count": 17,
     "metadata": {},
     "output_type": "execute_result"
    }
   ],
   "source": [
    "df_train_eda['dayofweek'] = df_train_eda.index.dayofweek\n",
    "df_train_eda.head(3)"
   ]
  },
  {
   "cell_type": "markdown",
   "id": "0c9be73d",
   "metadata": {},
   "source": [
    "## 시간대별 자전거 대여량 (근무일 유무, 요일, 시즌, 날씨)"
   ]
  },
  {
   "cell_type": "code",
   "execution_count": 18,
   "id": "d518fa70",
   "metadata": {},
   "outputs": [],
   "source": [
    "def point_plot(df, hue, ax):\n",
    "    sns.pointplot(data=df, x=\"hour\", y=\"count\", ax=ax, hue=hue)"
   ]
  },
  {
   "cell_type": "code",
   "execution_count": 19,
   "id": "1129dfb6",
   "metadata": {},
   "outputs": [
    {
     "data": {
      "image/png": "[encoded data removed]",
      "text/plain": [
       "<Figure size 1296x1800 with 4 Axes>"
      ]
     },
     "metadata": {
      "needs_background": "light"
     },
     "output_type": "display_data"
    }
   ],
   "source": [
    "fig,(ax1, ax2, ax3, ax4)= plt.subplots(nrows=4)\n",
    "fig.set_size_inches(18,25)\n",
    "\n",
    "#sns.pointplot(df_train, ax=ax1)\n",
    "point_plot(df_train_eda, 'workingday', ax=ax1)\n",
    "point_plot(df_train_eda, 'dayofweek', ax=ax2)\n",
    "point_plot(df_train_eda, 'season', ax=ax3)\n",
    "point_plot(df_train_eda, 'weather', ax=ax4)"
   ]
  },
  {
   "cell_type": "markdown",
   "id": "2def98ba",
   "metadata": {},
   "source": [
    "앞선 시간대별 자전거 대여량 그래프를 보면 오전8시, 오후 5~6시에 가장 대여량이 많았다.\n",
    "\n",
    "근무일, 요일, 분기, 날씨에 따른 대여량에 대한 분석  \n",
    "- 근무일에는 출근시간(8시), 퇴근시간(17 ~ 18시)에 가장 대여량이 높았고, 휴무일에는 12 ~ 16시에 가장 대여를 많이했다.\n",
    "- 평일은 근무일 대여량, 주말은 휴무일 대여량에 따르는 것을 확인할 수 있다.\n",
    "- 3분기(7 ~ 9월)에 가장 대여를 많이하고, 1분기(1 ~ 3월)에 가장 적게 대여를 하는 것을 볼 수 있다.\n",
    "- 날씨가 좋을 수록 대여를 많이하고, 좋지 않을 때는 대여를 많이 안한다."
   ]
  },
  {
   "cell_type": "markdown",
   "id": "6813c4c6",
   "metadata": {},
   "source": [
    "# EDA 분석 끝 다시 원본 데이터 불러오기"
   ]
  },
  {
   "cell_type": "code",
   "execution_count": 20,
   "id": "b53cba3b",
   "metadata": {},
   "outputs": [],
   "source": [
    "df_train = pd.read_csv(path + \"train.csv\", parse_dates = ['datetime'],\n",
    "                       index_col='datetime', infer_datetime_format=True)"
   ]
  },
  {
   "cell_type": "code",
   "execution_count": 21,
   "id": "95f63aa1",
   "metadata": {},
   "outputs": [
    {
     "data": {
      "text/plain": [
       "(10886, 11)"
      ]
     },
     "execution_count": 21,
     "metadata": {},
     "output_type": "execute_result"
    }
   ],
   "source": [
    "df_train.shape"
   ]
  },
  {
   "cell_type": "code",
   "execution_count": 22,
   "id": "1b661c43",
   "metadata": {},
   "outputs": [
    {
     "data": {
      "text/html": [
       "<div>\n",
       "<style scoped>\n",
       "    .dataframe tbody tr th:only-of-type {\n",
       "        vertical-align: middle;\n",
       "    }\n",
       "\n",
       "    .dataframe tbody tr th {\n",
       "        vertical-align: top;\n",
       "    }\n",
       "\n",
       "    .dataframe thead th {\n",
       "        text-align: right;\n",
       "    }\n",
       "</style>\n",
       "<table border=\"1\" class=\"dataframe\">\n",
       "  <thead>\n",
       "    <tr style=\"text-align: right;\">\n",
       "      <th></th>\n",
       "      <th>season</th>\n",
       "      <th>holiday</th>\n",
       "      <th>workingday</th>\n",
       "      <th>weather</th>\n",
       "      <th>temp</th>\n",
       "      <th>atemp</th>\n",
       "      <th>humidity</th>\n",
       "      <th>windspeed</th>\n",
       "      <th>casual</th>\n",
       "      <th>registered</th>\n",
       "      <th>count</th>\n",
       "    </tr>\n",
       "    <tr>\n",
       "      <th>datetime</th>\n",
       "      <th></th>\n",
       "      <th></th>\n",
       "      <th></th>\n",
       "      <th></th>\n",
       "      <th></th>\n",
       "      <th></th>\n",
       "      <th></th>\n",
       "      <th></th>\n",
       "      <th></th>\n",
       "      <th></th>\n",
       "      <th></th>\n",
       "    </tr>\n",
       "  </thead>\n",
       "  <tbody>\n",
       "    <tr>\n",
       "      <th>2012-12-19 19:00:00</th>\n",
       "      <td>4</td>\n",
       "      <td>0</td>\n",
       "      <td>1</td>\n",
       "      <td>1</td>\n",
       "      <td>15.58</td>\n",
       "      <td>19.695</td>\n",
       "      <td>50</td>\n",
       "      <td>26.0027</td>\n",
       "      <td>7</td>\n",
       "      <td>329</td>\n",
       "      <td>336</td>\n",
       "    </tr>\n",
       "    <tr>\n",
       "      <th>2012-12-19 20:00:00</th>\n",
       "      <td>4</td>\n",
       "      <td>0</td>\n",
       "      <td>1</td>\n",
       "      <td>1</td>\n",
       "      <td>14.76</td>\n",
       "      <td>17.425</td>\n",
       "      <td>57</td>\n",
       "      <td>15.0013</td>\n",
       "      <td>10</td>\n",
       "      <td>231</td>\n",
       "      <td>241</td>\n",
       "    </tr>\n",
       "    <tr>\n",
       "      <th>2012-12-19 21:00:00</th>\n",
       "      <td>4</td>\n",
       "      <td>0</td>\n",
       "      <td>1</td>\n",
       "      <td>1</td>\n",
       "      <td>13.94</td>\n",
       "      <td>15.910</td>\n",
       "      <td>61</td>\n",
       "      <td>15.0013</td>\n",
       "      <td>4</td>\n",
       "      <td>164</td>\n",
       "      <td>168</td>\n",
       "    </tr>\n",
       "    <tr>\n",
       "      <th>2012-12-19 22:00:00</th>\n",
       "      <td>4</td>\n",
       "      <td>0</td>\n",
       "      <td>1</td>\n",
       "      <td>1</td>\n",
       "      <td>13.94</td>\n",
       "      <td>17.425</td>\n",
       "      <td>61</td>\n",
       "      <td>6.0032</td>\n",
       "      <td>12</td>\n",
       "      <td>117</td>\n",
       "      <td>129</td>\n",
       "    </tr>\n",
       "    <tr>\n",
       "      <th>2012-12-19 23:00:00</th>\n",
       "      <td>4</td>\n",
       "      <td>0</td>\n",
       "      <td>1</td>\n",
       "      <td>1</td>\n",
       "      <td>13.12</td>\n",
       "      <td>16.665</td>\n",
       "      <td>66</td>\n",
       "      <td>8.9981</td>\n",
       "      <td>4</td>\n",
       "      <td>84</td>\n",
       "      <td>88</td>\n",
       "    </tr>\n",
       "  </tbody>\n",
       "</table>\n",
       "</div>"
      ],
      "text/plain": [
       "                     season  holiday  workingday  weather   temp   atemp  \\\n",
       "datetime                                                                   \n",
       "2012-12-19 19:00:00       4        0           1        1  15.58  19.695   \n",
       "2012-12-19 20:00:00       4        0           1        1  14.76  17.425   \n",
       "2012-12-19 21:00:00       4        0           1        1  13.94  15.910   \n",
       "2012-12-19 22:00:00       4        0           1        1  13.94  17.425   \n",
       "2012-12-19 23:00:00       4        0           1        1  13.12  16.665   \n",
       "\n",
       "                     humidity  windspeed  casual  registered  count  \n",
       "datetime                                                             \n",
       "2012-12-19 19:00:00        50    26.0027       7         329    336  \n",
       "2012-12-19 20:00:00        57    15.0013      10         231    241  \n",
       "2012-12-19 21:00:00        61    15.0013       4         164    168  \n",
       "2012-12-19 22:00:00        61     6.0032      12         117    129  \n",
       "2012-12-19 23:00:00        66     8.9981       4          84     88  "
      ]
     },
     "execution_count": 22,
     "metadata": {},
     "output_type": "execute_result"
    }
   ],
   "source": [
    "df_train.tail()"
   ]
  },
  {
   "cell_type": "markdown",
   "id": "73689c51",
   "metadata": {},
   "source": [
    "### df_train데이터는 한 시간 단위로 2011-01-01 00:00:00  ~ 2012-12-19 23 23:00:00 ( 1일부터19일)\n",
    "### 즉, 2(years) * 12(month) * 19(days) * 24(hours) =  10944(timestep)이어야한다.\n",
    "### 하지만 df_train데이터는 10886(timestep) 이므로 중간에 누락된 정보가 있다.\n",
    "### 따라서 (10944-10886) = 58개의 timestep을 채워야 한다."
   ]
  },
  {
   "cell_type": "code",
   "execution_count": 23,
   "id": "08404972",
   "metadata": {},
   "outputs": [],
   "source": [
    "num_months_per_year = 12\n",
    "year_list = [2011, 2012]"
   ]
  },
  {
   "cell_type": "code",
   "execution_count": 24,
   "id": "4d7d69e9",
   "metadata": {},
   "outputs": [],
   "source": [
    "df_train_temp = pd.DataFrame(columns=df_train.columns)\n",
    "\n",
    "for year in year_list: # 2011 2012\n",
    "    for month in range(num_months_per_year):# 0~11\n",
    "        start_date = datetime.datetime(year, month+1, 1, 0, 0, 0)\n",
    "        end_date = datetime.datetime(year, month+1, 19, 23, 0, 0)\n",
    "        temp = df_train[start_date:end_date].resample('H').asfreq()\n",
    "        df_train_temp = df_train_temp.append(temp)\n",
    "        \n",
    "train_data = df_train_temp"
   ]
  },
  {
   "cell_type": "code",
   "execution_count": 25,
   "id": "321389e9",
   "metadata": {},
   "outputs": [
    {
     "data": {
      "text/plain": [
       "(10944, 11)"
      ]
     },
     "execution_count": 25,
     "metadata": {},
     "output_type": "execute_result"
    }
   ],
   "source": [
    "train_data.shape"
   ]
  },
  {
   "cell_type": "markdown",
   "id": "68316c86",
   "metadata": {},
   "source": [
    "### 채워준 timestep의 결측치를 채워야한다."
   ]
  },
  {
   "cell_type": "code",
   "execution_count": 26,
   "id": "8c4d0794",
   "metadata": {},
   "outputs": [
    {
     "data": {
      "text/plain": [
       "season        58\n",
       "holiday       58\n",
       "workingday    58\n",
       "weather       58\n",
       "temp          58\n",
       "atemp         58\n",
       "humidity      58\n",
       "windspeed     58\n",
       "casual        58\n",
       "registered    58\n",
       "count         58\n",
       "dtype: int64"
      ]
     },
     "execution_count": 26,
     "metadata": {},
     "output_type": "execute_result"
    }
   ],
   "source": [
    "train_data.isna().sum()"
   ]
  },
  {
   "cell_type": "code",
   "execution_count": 27,
   "id": "f9eababc",
   "metadata": {},
   "outputs": [
    {
     "data": {
      "text/plain": [
       "DatetimeIndex(['2011-01-02 05:00:00', '2011-01-03 02:00:00',\n",
       "               '2011-01-03 03:00:00', '2011-01-04 03:00:00',\n",
       "               '2011-01-05 03:00:00', '2011-01-06 03:00:00',\n",
       "               '2011-01-07 03:00:00', '2011-01-11 03:00:00',\n",
       "               '2011-01-11 04:00:00', '2011-01-12 03:00:00',\n",
       "               '2011-01-12 04:00:00', '2011-01-14 04:00:00',\n",
       "               '2011-01-18 00:00:00', '2011-01-18 01:00:00',\n",
       "               '2011-01-18 02:00:00', '2011-01-18 03:00:00',\n",
       "               '2011-01-18 04:00:00', '2011-01-18 05:00:00',\n",
       "               '2011-01-18 06:00:00', '2011-01-18 07:00:00',\n",
       "               '2011-01-18 08:00:00', '2011-01-18 09:00:00',\n",
       "               '2011-01-18 10:00:00', '2011-01-18 11:00:00',\n",
       "               '2011-01-19 03:00:00', '2011-02-01 04:00:00',\n",
       "               '2011-02-03 04:00:00', '2011-02-04 04:00:00',\n",
       "               '2011-02-09 04:00:00', '2011-02-10 03:00:00',\n",
       "               '2011-02-11 03:00:00', '2011-02-11 04:00:00',\n",
       "               '2011-02-13 05:00:00', '2011-02-15 03:00:00',\n",
       "               '2011-02-16 02:00:00', '2011-03-06 05:00:00',\n",
       "               '2011-03-07 02:00:00', '2011-03-10 03:00:00',\n",
       "               '2011-03-10 04:00:00', '2011-03-11 04:00:00',\n",
       "               '2011-03-13 02:00:00', '2011-03-14 04:00:00',\n",
       "               '2011-03-15 03:00:00', '2011-03-16 02:00:00',\n",
       "               '2011-03-18 04:00:00', '2011-04-11 03:00:00',\n",
       "               '2011-09-06 01:00:00', '2011-09-08 02:00:00',\n",
       "               '2011-09-12 03:00:00', '2011-10-19 03:00:00',\n",
       "               '2012-01-02 03:00:00', '2012-01-10 03:00:00',\n",
       "               '2012-01-17 03:00:00', '2012-02-06 03:00:00',\n",
       "               '2012-03-11 02:00:00', '2012-04-02 03:00:00',\n",
       "               '2012-04-11 04:00:00', '2012-11-08 03:00:00'],\n",
       "              dtype='datetime64[ns]', freq=None)"
      ]
     },
     "execution_count": 27,
     "metadata": {},
     "output_type": "execute_result"
    }
   ],
   "source": [
    "null_feature = train_data[train_data['count'].isnull()].index\n",
    "null_feature"
   ]
  },
  {
   "cell_type": "markdown",
   "id": "a8f62050",
   "metadata": {},
   "source": [
    "### season, holiday, workingday, weather들은 backfill로 채운다.(같은 날짜 이기 때문)"
   ]
  },
  {
   "cell_type": "code",
   "execution_count": 28,
   "id": "5ca71408",
   "metadata": {},
   "outputs": [],
   "source": [
    "backfill_features = ['season', 'holiday', 'workingday', 'weather']\n",
    "train_data[backfill_features] = train_data[backfill_features].fillna(method='backfill')"
   ]
  },
  {
   "cell_type": "markdown",
   "id": "37f9c603",
   "metadata": {},
   "source": [
    "### temp, atemp, humidity, windspeed 들은 linear로 채운다."
   ]
  },
  {
   "cell_type": "code",
   "execution_count": 29,
   "id": "b8d135d5",
   "metadata": {},
   "outputs": [],
   "source": [
    "fill_linear_features = ['temp', 'atemp', 'humidity', 'windspeed']\n",
    "train_data[fill_linear_features] = train_data[fill_linear_features].interpolate(method='linear')"
   ]
  },
  {
   "cell_type": "markdown",
   "id": "6474d2e4",
   "metadata": {},
   "source": [
    "### 문제는 casual, registered, count들이다.\n",
    "### target값과 연관된 column이기 때문에 머신러닝 기법을 활용해 채운다.\n",
    "### casual, registered 들의 합은 count이기 때문에 drop한다."
   ]
  },
  {
   "cell_type": "code",
   "execution_count": 30,
   "id": "99f39b0d",
   "metadata": {},
   "outputs": [
    {
     "data": {
      "text/html": [
       "<div>\n",
       "<style scoped>\n",
       "    .dataframe tbody tr th:only-of-type {\n",
       "        vertical-align: middle;\n",
       "    }\n",
       "\n",
       "    .dataframe tbody tr th {\n",
       "        vertical-align: top;\n",
       "    }\n",
       "\n",
       "    .dataframe thead th {\n",
       "        text-align: right;\n",
       "    }\n",
       "</style>\n",
       "<table border=\"1\" class=\"dataframe\">\n",
       "  <thead>\n",
       "    <tr style=\"text-align: right;\">\n",
       "      <th></th>\n",
       "      <th>season</th>\n",
       "      <th>holiday</th>\n",
       "      <th>workingday</th>\n",
       "      <th>weather</th>\n",
       "      <th>temp</th>\n",
       "      <th>atemp</th>\n",
       "      <th>humidity</th>\n",
       "      <th>windspeed</th>\n",
       "      <th>count</th>\n",
       "    </tr>\n",
       "  </thead>\n",
       "  <tbody>\n",
       "    <tr>\n",
       "      <th>2011-01-02 05:00:00</th>\n",
       "      <td>1.0</td>\n",
       "      <td>0.0</td>\n",
       "      <td>0.0</td>\n",
       "      <td>3.0</td>\n",
       "      <td>18.040000</td>\n",
       "      <td>21.9675</td>\n",
       "      <td>85.5</td>\n",
       "      <td>16.498750</td>\n",
       "      <td>NaN</td>\n",
       "    </tr>\n",
       "    <tr>\n",
       "      <th>2011-01-03 02:00:00</th>\n",
       "      <td>1.0</td>\n",
       "      <td>0.0</td>\n",
       "      <td>1.0</td>\n",
       "      <td>1.0</td>\n",
       "      <td>7.653333</td>\n",
       "      <td>7.8300</td>\n",
       "      <td>45.0</td>\n",
       "      <td>27.333767</td>\n",
       "      <td>NaN</td>\n",
       "    </tr>\n",
       "    <tr>\n",
       "      <th>2011-01-03 03:00:00</th>\n",
       "      <td>1.0</td>\n",
       "      <td>0.0</td>\n",
       "      <td>1.0</td>\n",
       "      <td>1.0</td>\n",
       "      <td>7.106667</td>\n",
       "      <td>7.3250</td>\n",
       "      <td>46.0</td>\n",
       "      <td>26.668233</td>\n",
       "      <td>NaN</td>\n",
       "    </tr>\n",
       "    <tr>\n",
       "      <th>2011-01-04 03:00:00</th>\n",
       "      <td>1.0</td>\n",
       "      <td>0.0</td>\n",
       "      <td>1.0</td>\n",
       "      <td>1.0</td>\n",
       "      <td>5.740000</td>\n",
       "      <td>8.3325</td>\n",
       "      <td>63.0</td>\n",
       "      <td>7.500650</td>\n",
       "      <td>NaN</td>\n",
       "    </tr>\n",
       "    <tr>\n",
       "      <th>2011-01-05 03:00:00</th>\n",
       "      <td>1.0</td>\n",
       "      <td>0.0</td>\n",
       "      <td>1.0</td>\n",
       "      <td>1.0</td>\n",
       "      <td>8.200000</td>\n",
       "      <td>10.6075</td>\n",
       "      <td>61.0</td>\n",
       "      <td>10.502250</td>\n",
       "      <td>NaN</td>\n",
       "    </tr>\n",
       "  </tbody>\n",
       "</table>\n",
       "</div>"
      ],
      "text/plain": [
       "                     season  holiday  workingday  weather       temp    atemp  \\\n",
       "2011-01-02 05:00:00     1.0      0.0         0.0      3.0  18.040000  21.9675   \n",
       "2011-01-03 02:00:00     1.0      0.0         1.0      1.0   7.653333   7.8300   \n",
       "2011-01-03 03:00:00     1.0      0.0         1.0      1.0   7.106667   7.3250   \n",
       "2011-01-04 03:00:00     1.0      0.0         1.0      1.0   5.740000   8.3325   \n",
       "2011-01-05 03:00:00     1.0      0.0         1.0      1.0   8.200000  10.6075   \n",
       "\n",
       "                     humidity  windspeed  count  \n",
       "2011-01-02 05:00:00      85.5  16.498750    NaN  \n",
       "2011-01-03 02:00:00      45.0  27.333767    NaN  \n",
       "2011-01-03 03:00:00      46.0  26.668233    NaN  \n",
       "2011-01-04 03:00:00      63.0   7.500650    NaN  \n",
       "2011-01-05 03:00:00      61.0  10.502250    NaN  "
      ]
     },
     "execution_count": 30,
     "metadata": {},
     "output_type": "execute_result"
    }
   ],
   "source": [
    "null_df = train_data.loc[null_feature]\n",
    "null_df = null_df.drop(\"casual\",axis=1)\n",
    "null_df = null_df.drop(\"registered\",axis=1)\n",
    "null_df.head() # "
   ]
  },
  {
   "cell_type": "code",
   "execution_count": 31,
   "id": "2db12576",
   "metadata": {},
   "outputs": [
    {
     "data": {
      "text/html": [
       "<div>\n",
       "<style scoped>\n",
       "    .dataframe tbody tr th:only-of-type {\n",
       "        vertical-align: middle;\n",
       "    }\n",
       "\n",
       "    .dataframe tbody tr th {\n",
       "        vertical-align: top;\n",
       "    }\n",
       "\n",
       "    .dataframe thead th {\n",
       "        text-align: right;\n",
       "    }\n",
       "</style>\n",
       "<table border=\"1\" class=\"dataframe\">\n",
       "  <thead>\n",
       "    <tr style=\"text-align: right;\">\n",
       "      <th></th>\n",
       "      <th>season</th>\n",
       "      <th>holiday</th>\n",
       "      <th>workingday</th>\n",
       "      <th>weather</th>\n",
       "      <th>temp</th>\n",
       "      <th>atemp</th>\n",
       "      <th>humidity</th>\n",
       "      <th>windspeed</th>\n",
       "      <th>count</th>\n",
       "    </tr>\n",
       "  </thead>\n",
       "  <tbody>\n",
       "    <tr>\n",
       "      <th>2011-01-01 00:00:00</th>\n",
       "      <td>1.0</td>\n",
       "      <td>0.0</td>\n",
       "      <td>0.0</td>\n",
       "      <td>1.0</td>\n",
       "      <td>9.84</td>\n",
       "      <td>14.395</td>\n",
       "      <td>81.0</td>\n",
       "      <td>0.0</td>\n",
       "      <td>16.0</td>\n",
       "    </tr>\n",
       "    <tr>\n",
       "      <th>2011-01-01 01:00:00</th>\n",
       "      <td>1.0</td>\n",
       "      <td>0.0</td>\n",
       "      <td>0.0</td>\n",
       "      <td>1.0</td>\n",
       "      <td>9.02</td>\n",
       "      <td>13.635</td>\n",
       "      <td>80.0</td>\n",
       "      <td>0.0</td>\n",
       "      <td>40.0</td>\n",
       "    </tr>\n",
       "    <tr>\n",
       "      <th>2011-01-01 02:00:00</th>\n",
       "      <td>1.0</td>\n",
       "      <td>0.0</td>\n",
       "      <td>0.0</td>\n",
       "      <td>1.0</td>\n",
       "      <td>9.02</td>\n",
       "      <td>13.635</td>\n",
       "      <td>80.0</td>\n",
       "      <td>0.0</td>\n",
       "      <td>32.0</td>\n",
       "    </tr>\n",
       "    <tr>\n",
       "      <th>2011-01-01 03:00:00</th>\n",
       "      <td>1.0</td>\n",
       "      <td>0.0</td>\n",
       "      <td>0.0</td>\n",
       "      <td>1.0</td>\n",
       "      <td>9.84</td>\n",
       "      <td>14.395</td>\n",
       "      <td>75.0</td>\n",
       "      <td>0.0</td>\n",
       "      <td>13.0</td>\n",
       "    </tr>\n",
       "    <tr>\n",
       "      <th>2011-01-01 04:00:00</th>\n",
       "      <td>1.0</td>\n",
       "      <td>0.0</td>\n",
       "      <td>0.0</td>\n",
       "      <td>1.0</td>\n",
       "      <td>9.84</td>\n",
       "      <td>14.395</td>\n",
       "      <td>75.0</td>\n",
       "      <td>0.0</td>\n",
       "      <td>1.0</td>\n",
       "    </tr>\n",
       "  </tbody>\n",
       "</table>\n",
       "</div>"
      ],
      "text/plain": [
       "                     season  holiday  workingday  weather  temp   atemp  \\\n",
       "2011-01-01 00:00:00     1.0      0.0         0.0      1.0  9.84  14.395   \n",
       "2011-01-01 01:00:00     1.0      0.0         0.0      1.0  9.02  13.635   \n",
       "2011-01-01 02:00:00     1.0      0.0         0.0      1.0  9.02  13.635   \n",
       "2011-01-01 03:00:00     1.0      0.0         0.0      1.0  9.84  14.395   \n",
       "2011-01-01 04:00:00     1.0      0.0         0.0      1.0  9.84  14.395   \n",
       "\n",
       "                     humidity  windspeed  count  \n",
       "2011-01-01 00:00:00      81.0        0.0   16.0  \n",
       "2011-01-01 01:00:00      80.0        0.0   40.0  \n",
       "2011-01-01 02:00:00      80.0        0.0   32.0  \n",
       "2011-01-01 03:00:00      75.0        0.0   13.0  \n",
       "2011-01-01 04:00:00      75.0        0.0    1.0  "
      ]
     },
     "execution_count": 31,
     "metadata": {},
     "output_type": "execute_result"
    }
   ],
   "source": [
    "full_df = train_data.drop(index = null_feature)\n",
    "full_df = full_df.drop(\"casual\",axis=1)\n",
    "full_df = full_df.drop(\"registered\",axis=1)\n",
    "full_df.head() "
   ]
  },
  {
   "cell_type": "markdown",
   "id": "401de6f7",
   "metadata": {},
   "source": [
    "## EDA분석에서 시간대별 대여량에 영향이 있는  column을 갖고온다."
   ]
  },
  {
   "cell_type": "code",
   "execution_count": 32,
   "id": "77bf7943",
   "metadata": {},
   "outputs": [],
   "source": [
    "null_df['year'] = null_df.index.year\n",
    "null_df['month'] = null_df.index.month\n",
    "null_df['day'] = null_df.index.day\n",
    "null_df['hour'] = null_df.index.hour\n",
    "\n",
    "full_df['year'] = full_df.index.year\n",
    "full_df['month'] = full_df.index.month\n",
    "full_df['day'] = full_df.index.day\n",
    "full_df['hour'] = full_df.index.hour"
   ]
  },
  {
   "cell_type": "code",
   "execution_count": 33,
   "id": "e54b9c5f",
   "metadata": {},
   "outputs": [
    {
     "data": {
      "text/html": [
       "<div>\n",
       "<style scoped>\n",
       "    .dataframe tbody tr th:only-of-type {\n",
       "        vertical-align: middle;\n",
       "    }\n",
       "\n",
       "    .dataframe tbody tr th {\n",
       "        vertical-align: top;\n",
       "    }\n",
       "\n",
       "    .dataframe thead th {\n",
       "        text-align: right;\n",
       "    }\n",
       "</style>\n",
       "<table border=\"1\" class=\"dataframe\">\n",
       "  <thead>\n",
       "    <tr style=\"text-align: right;\">\n",
       "      <th></th>\n",
       "      <th>season</th>\n",
       "      <th>holiday</th>\n",
       "      <th>workingday</th>\n",
       "      <th>weather</th>\n",
       "      <th>temp</th>\n",
       "      <th>atemp</th>\n",
       "      <th>humidity</th>\n",
       "      <th>windspeed</th>\n",
       "      <th>year</th>\n",
       "      <th>month</th>\n",
       "      <th>day</th>\n",
       "      <th>hour</th>\n",
       "    </tr>\n",
       "  </thead>\n",
       "  <tbody>\n",
       "    <tr>\n",
       "      <th>2011-01-01 00:00:00</th>\n",
       "      <td>1.0</td>\n",
       "      <td>0.0</td>\n",
       "      <td>0.0</td>\n",
       "      <td>1.0</td>\n",
       "      <td>9.84</td>\n",
       "      <td>14.395</td>\n",
       "      <td>81.0</td>\n",
       "      <td>0.0000</td>\n",
       "      <td>2011</td>\n",
       "      <td>1</td>\n",
       "      <td>1</td>\n",
       "      <td>0</td>\n",
       "    </tr>\n",
       "    <tr>\n",
       "      <th>2011-01-01 01:00:00</th>\n",
       "      <td>1.0</td>\n",
       "      <td>0.0</td>\n",
       "      <td>0.0</td>\n",
       "      <td>1.0</td>\n",
       "      <td>9.02</td>\n",
       "      <td>13.635</td>\n",
       "      <td>80.0</td>\n",
       "      <td>0.0000</td>\n",
       "      <td>2011</td>\n",
       "      <td>1</td>\n",
       "      <td>1</td>\n",
       "      <td>1</td>\n",
       "    </tr>\n",
       "    <tr>\n",
       "      <th>2011-01-01 02:00:00</th>\n",
       "      <td>1.0</td>\n",
       "      <td>0.0</td>\n",
       "      <td>0.0</td>\n",
       "      <td>1.0</td>\n",
       "      <td>9.02</td>\n",
       "      <td>13.635</td>\n",
       "      <td>80.0</td>\n",
       "      <td>0.0000</td>\n",
       "      <td>2011</td>\n",
       "      <td>1</td>\n",
       "      <td>1</td>\n",
       "      <td>2</td>\n",
       "    </tr>\n",
       "    <tr>\n",
       "      <th>2011-01-01 03:00:00</th>\n",
       "      <td>1.0</td>\n",
       "      <td>0.0</td>\n",
       "      <td>0.0</td>\n",
       "      <td>1.0</td>\n",
       "      <td>9.84</td>\n",
       "      <td>14.395</td>\n",
       "      <td>75.0</td>\n",
       "      <td>0.0000</td>\n",
       "      <td>2011</td>\n",
       "      <td>1</td>\n",
       "      <td>1</td>\n",
       "      <td>3</td>\n",
       "    </tr>\n",
       "    <tr>\n",
       "      <th>2011-01-01 04:00:00</th>\n",
       "      <td>1.0</td>\n",
       "      <td>0.0</td>\n",
       "      <td>0.0</td>\n",
       "      <td>1.0</td>\n",
       "      <td>9.84</td>\n",
       "      <td>14.395</td>\n",
       "      <td>75.0</td>\n",
       "      <td>0.0000</td>\n",
       "      <td>2011</td>\n",
       "      <td>1</td>\n",
       "      <td>1</td>\n",
       "      <td>4</td>\n",
       "    </tr>\n",
       "    <tr>\n",
       "      <th>...</th>\n",
       "      <td>...</td>\n",
       "      <td>...</td>\n",
       "      <td>...</td>\n",
       "      <td>...</td>\n",
       "      <td>...</td>\n",
       "      <td>...</td>\n",
       "      <td>...</td>\n",
       "      <td>...</td>\n",
       "      <td>...</td>\n",
       "      <td>...</td>\n",
       "      <td>...</td>\n",
       "      <td>...</td>\n",
       "    </tr>\n",
       "    <tr>\n",
       "      <th>2012-12-19 19:00:00</th>\n",
       "      <td>4.0</td>\n",
       "      <td>0.0</td>\n",
       "      <td>1.0</td>\n",
       "      <td>1.0</td>\n",
       "      <td>15.58</td>\n",
       "      <td>19.695</td>\n",
       "      <td>50.0</td>\n",
       "      <td>26.0027</td>\n",
       "      <td>2012</td>\n",
       "      <td>12</td>\n",
       "      <td>19</td>\n",
       "      <td>19</td>\n",
       "    </tr>\n",
       "    <tr>\n",
       "      <th>2012-12-19 20:00:00</th>\n",
       "      <td>4.0</td>\n",
       "      <td>0.0</td>\n",
       "      <td>1.0</td>\n",
       "      <td>1.0</td>\n",
       "      <td>14.76</td>\n",
       "      <td>17.425</td>\n",
       "      <td>57.0</td>\n",
       "      <td>15.0013</td>\n",
       "      <td>2012</td>\n",
       "      <td>12</td>\n",
       "      <td>19</td>\n",
       "      <td>20</td>\n",
       "    </tr>\n",
       "    <tr>\n",
       "      <th>2012-12-19 21:00:00</th>\n",
       "      <td>4.0</td>\n",
       "      <td>0.0</td>\n",
       "      <td>1.0</td>\n",
       "      <td>1.0</td>\n",
       "      <td>13.94</td>\n",
       "      <td>15.910</td>\n",
       "      <td>61.0</td>\n",
       "      <td>15.0013</td>\n",
       "      <td>2012</td>\n",
       "      <td>12</td>\n",
       "      <td>19</td>\n",
       "      <td>21</td>\n",
       "    </tr>\n",
       "    <tr>\n",
       "      <th>2012-12-19 22:00:00</th>\n",
       "      <td>4.0</td>\n",
       "      <td>0.0</td>\n",
       "      <td>1.0</td>\n",
       "      <td>1.0</td>\n",
       "      <td>13.94</td>\n",
       "      <td>17.425</td>\n",
       "      <td>61.0</td>\n",
       "      <td>6.0032</td>\n",
       "      <td>2012</td>\n",
       "      <td>12</td>\n",
       "      <td>19</td>\n",
       "      <td>22</td>\n",
       "    </tr>\n",
       "    <tr>\n",
       "      <th>2012-12-19 23:00:00</th>\n",
       "      <td>4.0</td>\n",
       "      <td>0.0</td>\n",
       "      <td>1.0</td>\n",
       "      <td>1.0</td>\n",
       "      <td>13.12</td>\n",
       "      <td>16.665</td>\n",
       "      <td>66.0</td>\n",
       "      <td>8.9981</td>\n",
       "      <td>2012</td>\n",
       "      <td>12</td>\n",
       "      <td>19</td>\n",
       "      <td>23</td>\n",
       "    </tr>\n",
       "  </tbody>\n",
       "</table>\n",
       "<p>10886 rows × 12 columns</p>\n",
       "</div>"
      ],
      "text/plain": [
       "                     season  holiday  workingday  weather   temp   atemp  \\\n",
       "2011-01-01 00:00:00     1.0      0.0         0.0      1.0   9.84  14.395   \n",
       "2011-01-01 01:00:00     1.0      0.0         0.0      1.0   9.02  13.635   \n",
       "2011-01-01 02:00:00     1.0      0.0         0.0      1.0   9.02  13.635   \n",
       "2011-01-01 03:00:00     1.0      0.0         0.0      1.0   9.84  14.395   \n",
       "2011-01-01 04:00:00     1.0      0.0         0.0      1.0   9.84  14.395   \n",
       "...                     ...      ...         ...      ...    ...     ...   \n",
       "2012-12-19 19:00:00     4.0      0.0         1.0      1.0  15.58  19.695   \n",
       "2012-12-19 20:00:00     4.0      0.0         1.0      1.0  14.76  17.425   \n",
       "2012-12-19 21:00:00     4.0      0.0         1.0      1.0  13.94  15.910   \n",
       "2012-12-19 22:00:00     4.0      0.0         1.0      1.0  13.94  17.425   \n",
       "2012-12-19 23:00:00     4.0      0.0         1.0      1.0  13.12  16.665   \n",
       "\n",
       "                     humidity  windspeed  year  month  day  hour  \n",
       "2011-01-01 00:00:00      81.0     0.0000  2011      1    1     0  \n",
       "2011-01-01 01:00:00      80.0     0.0000  2011      1    1     1  \n",
       "2011-01-01 02:00:00      80.0     0.0000  2011      1    1     2  \n",
       "2011-01-01 03:00:00      75.0     0.0000  2011      1    1     3  \n",
       "2011-01-01 04:00:00      75.0     0.0000  2011      1    1     4  \n",
       "...                       ...        ...   ...    ...  ...   ...  \n",
       "2012-12-19 19:00:00      50.0    26.0027  2012     12   19    19  \n",
       "2012-12-19 20:00:00      57.0    15.0013  2012     12   19    20  \n",
       "2012-12-19 21:00:00      61.0    15.0013  2012     12   19    21  \n",
       "2012-12-19 22:00:00      61.0     6.0032  2012     12   19    22  \n",
       "2012-12-19 23:00:00      66.0     8.9981  2012     12   19    23  \n",
       "\n",
       "[10886 rows x 12 columns]"
      ]
     },
     "execution_count": 33,
     "metadata": {},
     "output_type": "execute_result"
    }
   ],
   "source": [
    "X = full_df.drop(\"count\", axis=1)\n",
    "X"
   ]
  },
  {
   "cell_type": "code",
   "execution_count": 34,
   "id": "755b5f9b",
   "metadata": {},
   "outputs": [
    {
     "data": {
      "text/plain": [
       "2011-01-01 00:00:00     16.0\n",
       "2011-01-01 01:00:00     40.0\n",
       "2011-01-01 02:00:00     32.0\n",
       "2011-01-01 03:00:00     13.0\n",
       "2011-01-01 04:00:00      1.0\n",
       "                       ...  \n",
       "2012-12-19 19:00:00    336.0\n",
       "2012-12-19 20:00:00    241.0\n",
       "2012-12-19 21:00:00    168.0\n",
       "2012-12-19 22:00:00    129.0\n",
       "2012-12-19 23:00:00     88.0\n",
       "Name: count, Length: 10886, dtype: float64"
      ]
     },
     "execution_count": 34,
     "metadata": {},
     "output_type": "execute_result"
    }
   ],
   "source": [
    "y = full_df[\"count\"]\n",
    "y"
   ]
  },
  {
   "cell_type": "markdown",
   "id": "c6c4109a",
   "metadata": {},
   "source": [
    "## randomforest 학습"
   ]
  },
  {
   "cell_type": "code",
   "execution_count": 35,
   "id": "a3b4dacc",
   "metadata": {},
   "outputs": [],
   "source": [
    "from sklearn.model_selection import train_test_split"
   ]
  },
  {
   "cell_type": "markdown",
   "id": "2d799ebd",
   "metadata": {},
   "source": [
    "### 데이터 split"
   ]
  },
  {
   "cell_type": "code",
   "execution_count": 36,
   "id": "cfb00626",
   "metadata": {},
   "outputs": [],
   "source": [
    "X_train, X_test, y_train, y_test = train_test_split(X, y, test_size = 0.2, random_state = 42)"
   ]
  },
  {
   "cell_type": "markdown",
   "id": "94dcebb8",
   "metadata": {},
   "source": [
    "### 필요한 라이브러리"
   ]
  },
  {
   "cell_type": "code",
   "execution_count": 37,
   "id": "dfb09a29",
   "metadata": {},
   "outputs": [],
   "source": [
    "from sklearn.ensemble import RandomForestRegressor\n",
    "from sklearn.model_selection import GridSearchCV  # 매개변수를 자동으로 변수 설정해서 최적 찾기 위한 방법\n",
    "from sklearn.model_selection import KFold  # 몇번 나눌지\n",
    "from sklearn.metrics import r2_score, mean_squared_error  # SVR 모델의 예측과 실제의 결과를 확인하는 성능지표\n",
    "\n",
    "def rmsle(y,pred):\n",
    "    log_y = np.log1p(y)\n",
    "    log_pred = np.log1p(pred)\n",
    "    squared_error = (log_y - log_pred)**2\n",
    "    rmsle = np.sqrt(np.mean(squared_error))\n",
    "    return rmsle"
   ]
  },
  {
   "cell_type": "code",
   "execution_count": 38,
   "id": "88ebd41c",
   "metadata": {},
   "outputs": [],
   "source": [
    "seed = 2021"
   ]
  },
  {
   "cell_type": "markdown",
   "id": "44ef69cc",
   "metadata": {},
   "source": [
    "### random_grid 파라미터 값 설정"
   ]
  },
  {
   "cell_type": "code",
   "execution_count": 39,
   "id": "a23132fa",
   "metadata": {},
   "outputs": [
    {
     "data": {
      "text/plain": [
       "\"\\n# 랜덤 포레스트의 트리 수 \\nn_estimators = [int(x) for x in np.linspace(start = 100, stop = 1000, num = 100)] \\n# 모든 분할에서 고려해야 할 기능의 수 \\nmax_features = ['auto', ' qrt '] \\n# 트리의 최대 레벨 수 \\nmax_depth = [int(x) for x in np.linspace(10, 11, num = 11)] \\nmax_depth.append(None) \\n# 노드를 분할하는 데 필요한 최소 샘플 수 \\nmin_samples_split = [2, 5, 10] \\n# 각 리프 노드에 필요한 최소 샘플 수 \\nmin_samples_leaf = [1, 2, 4] \\n# 각 트리 \\n# 부트스트랩 훈련을 위한 샘플 선택 방법 = [True, False]\\n# 랜덤 그리드 생성 \\nrandom_grid = {'n_estimators': n_estimators, \\n               'max_features': max_features, \\n               'max_depth': max_depth, \\n               'min_samples_split': min_samples_split, \\n               'min_samples_leaf': min_samples_leaf, \\n               }\""
      ]
     },
     "execution_count": 39,
     "metadata": {},
     "output_type": "execute_result"
    }
   ],
   "source": [
    "\"\"\"\n",
    "# 랜덤 포레스트의 트리 수 \n",
    "n_estimators = [int(x) for x in np.linspace(start = 100, stop = 1000, num = 100)] \n",
    "# 모든 분할에서 고려해야 할 기능의 수 \n",
    "max_features = ['auto', ' qrt '] \n",
    "# 트리의 최대 레벨 수 \n",
    "max_depth = [int(x) for x in np.linspace(10, 11, num = 11)] \n",
    "max_depth.append(None) \n",
    "# 노드를 분할하는 데 필요한 최소 샘플 수 \n",
    "min_samples_split = [2, 5, 10] \n",
    "# 각 리프 노드에 필요한 최소 샘플 수 \n",
    "min_samples_leaf = [1, 2, 4] \n",
    "# 각 트리 \n",
    "# 부트스트랩 훈련을 위한 샘플 선택 방법 = [True, False]\n",
    "# 랜덤 그리드 생성 \n",
    "random_grid = {'n_estimators': n_estimators, \n",
    "               'max_features': max_features, \n",
    "               'max_depth': max_depth, \n",
    "               'min_samples_split': min_samples_split, \n",
    "               'min_samples_leaf': min_samples_leaf, \n",
    "               }\"\"\""
   ]
  },
  {
   "cell_type": "code",
   "execution_count": 40,
   "id": "9aa8bc59",
   "metadata": {},
   "outputs": [],
   "source": [
    "random_grid = {'n_estimators': [100], \n",
    "               'max_features': [\"auto\"], \n",
    "               'max_depth': [10], \n",
    "               'min_samples_split': [2], \n",
    "               'min_samples_leaf': [1], \n",
    "               }"
   ]
  },
  {
   "cell_type": "code",
   "execution_count": 41,
   "id": "831081da",
   "metadata": {},
   "outputs": [
    {
     "data": {
      "text/plain": [
       "GridSearchCV(cv=KFold(n_splits=5, random_state=2021, shuffle=True),\n",
       "             estimator=RandomForestRegressor(random_state=2021),\n",
       "             param_grid={'max_depth': [10], 'max_features': ['auto'],\n",
       "                         'min_samples_leaf': [1], 'min_samples_split': [2],\n",
       "                         'n_estimators': [100]})"
      ]
     },
     "execution_count": 41,
     "metadata": {},
     "output_type": "execute_result"
    }
   ],
   "source": [
    "rf = RandomForestRegressor(random_state=seed, bootstrap=True)\n",
    "cv = KFold(n_splits = 5, shuffle = True, random_state=seed)\n",
    "\n",
    "grid=GridSearchCV(estimator=rf,\n",
    "                 param_grid=random_grid,\n",
    "                 cv=cv)\n",
    "\n",
    "grid.fit(X_train, y_train)"
   ]
  },
  {
   "cell_type": "markdown",
   "id": "49048165",
   "metadata": {},
   "source": [
    "## best param 값 "
   ]
  },
  {
   "cell_type": "code",
   "execution_count": 42,
   "id": "2088cf57",
   "metadata": {},
   "outputs": [
    {
     "name": "stdout",
     "output_type": "stream",
     "text": [
      "{'max_depth': 10, 'max_features': 'auto', 'min_samples_leaf': 1, 'min_samples_split': 2, 'n_estimators': 100}\n"
     ]
    }
   ],
   "source": [
    "best_parameters =grid.best_params_\n",
    "print(best_parameters)"
   ]
  },
  {
   "cell_type": "markdown",
   "id": "08fe4252",
   "metadata": {},
   "source": [
    "## final model에 다시 적용"
   ]
  },
  {
   "cell_type": "code",
   "execution_count": 43,
   "id": "e72e34bf",
   "metadata": {},
   "outputs": [],
   "source": [
    "final_model=RandomForestRegressor(**best_parameters, random_state=seed)\n",
    "final_model.fit(X_train, y_train)\n",
    "\n",
    "predict = final_model.predict(X_test)"
   ]
  },
  {
   "cell_type": "code",
   "execution_count": 44,
   "id": "2d6b59df",
   "metadata": {},
   "outputs": [
    {
     "name": "stdout",
     "output_type": "stream",
     "text": [
      "r2 score:0.933, rmsle:0.361\n"
     ]
    }
   ],
   "source": [
    "Score=r2_score(y_test,predict)\n",
    "Rmsle = rmsle(y_test,predict)\n",
    "print(\"r2 score:{:0.3f}, rmsle:{:0.3f}\".format(Score, Rmsle))"
   ]
  },
  {
   "cell_type": "markdown",
   "id": "41f291cc",
   "metadata": {},
   "source": [
    "# 이후로는 RNN"
   ]
  },
  {
   "cell_type": "code",
   "execution_count": 45,
   "id": "32cca577",
   "metadata": {},
   "outputs": [
    {
     "data": {
      "text/plain": [
       "'null_df_train = null_df.drop(\"count\", axis=1)\\nnull_df_test_predict = final_model.predict(null_df_train)\\nnull_df[\"count\"] = null_df_test_predict\\nnull_df[\"count\"] = round(null_df[\"count\"])\\ndata = pd.concat([null_df, full_df]).sort_index(ascending=True)\\ndrop_features = [\\'year\\',\\'month\\',\\'day\\',\\'hour\\']\\ndata = data.drop(drop_features, axis=1)\\ndata.to_csv(\"train_2.csv\")'"
      ]
     },
     "execution_count": 45,
     "metadata": {},
     "output_type": "execute_result"
    }
   ],
   "source": [
    "\"\"\"null_df_train = null_df.drop(\"count\", axis=1)\n",
    "null_df_test_predict = final_model.predict(null_df_train)\n",
    "null_df[\"count\"] = null_df_test_predict\n",
    "null_df[\"count\"] = round(null_df[\"count\"])\n",
    "data = pd.concat([null_df, full_df]).sort_index(ascending=True)\n",
    "drop_features = ['year','month','day','hour']\n",
    "data = data.drop(drop_features, axis=1)\n",
    "data.to_csv(\"train_2.csv\")\"\"\" \n",
    "\n",
    "# timestep을 채운 데이터셋을 다운받아 RNN 학습할 준비"
   ]
  }
 ],
 "metadata": {
  "kernelspec": {
   "display_name": "Python 3 (ipykernel)",
   "language": "python",
   "name": "python3"
  },
  "language_info": {
   "codemirror_mode": {
    "name": "ipython",
    "version": 3
   },
   "file_extension": ".py",
   "mimetype": "text/x-python",
   "name": "python",
   "nbconvert_exporter": "python",
   "pygments_lexer": "ipython3",
   "version": "3.9.7"
  }
 },
 "nbformat": 4,
 "nbformat_minor": 5
}
