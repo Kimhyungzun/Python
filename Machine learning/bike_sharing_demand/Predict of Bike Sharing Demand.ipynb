{
 "cells": [
  {
   "cell_type": "markdown",
   "id": "1f1a42bc",
   "metadata": {},
   "source": [
    "# RandomForest를 활용한 자전거 대여량 예측하기"
   ]
  },
  {
   "cell_type": "code",
   "execution_count": null,
   "id": "e323ed43",
   "metadata": {},
   "outputs": [],
   "source": [
    "import numpy as np\n",
    "import pandas as pd\n",
    "import matplotlib.pyplot as plt\n",
    "import seaborn as sns\n",
    "import os\n",
    "import datetime"
   ]
  },
  {
   "cell_type": "code",
   "execution_count": null,
   "id": "42cad637",
   "metadata": {},
   "outputs": [],
   "source": [
    "from tensorflow.keras import datasets, layers, models"
   ]
  },
  {
   "cell_type": "code",
   "execution_count": null,
   "id": "4f279e34",
   "metadata": {},
   "outputs": [],
   "source": [
    "path = \"data/\"\n",
    "print(os.listdir(\"data/\"))"
   ]
  },
  {
   "cell_type": "markdown",
   "id": "f5d42249",
   "metadata": {},
   "source": [
    "# load data"
   ]
  },
  {
   "cell_type": "code",
   "execution_count": null,
   "id": "0d936772",
   "metadata": {},
   "outputs": [],
   "source": [
    "df_train_eda = pd.read_csv(path + \"train.csv\", parse_dates = ['datetime'],\n",
    "                         index_col='datetime', infer_datetime_format=True)\n",
    "df_test = pd.read_csv(path + 'test.csv', parse_dates = ['datetime'],\n",
    "                        index_col='datetime', infer_datetime_format=True)\n",
    "df_submission = pd.read_csv(path+'sampleSubmission.csv', parse_dates = ['datetime'],\n",
    "                        index_col='datetime', infer_datetime_format=True)"
   ]
  },
  {
   "cell_type": "markdown",
   "id": "e67fd86f",
   "metadata": {},
   "source": [
    "# Columns "
   ]
  },
  {
   "cell_type": "markdown",
   "id": "b85a17e9",
   "metadata": {},
   "source": [
    "- datetime : 시간별 날짜\n",
    "- season :  \n",
    "  1.(1분기)  \n",
    "  2.(2분기)   \n",
    "  3.(3분기)  \n",
    "  4.(4분기)\n",
    "- holiday : 하루가 휴일로 간주되는지 여부\n",
    "- workingday : 주말과 휴일이 아닌 일하는 날\n",
    "- weather :   \n",
    "  1.(맑음, 구름, 조금, 흐림)  \n",
    "  2.(안개+흐림, 안개+구름, 안개+구름이 거의 없음 + 흐림)  \n",
    "  3.(가벼운 눈, 가벼운 비 + 천둥 + 구름, 가벼운 비 + 구름)  \n",
    "  4.(폭우 + 우박 + 천둥 + 안개, 눈 + 안개)\n",
    "- temp : 섭씨 온도\n",
    "- atemp : 섭씨 온도의 느낌\n",
    "- humidity : 상대 습도\n",
    "- windspeed : 풍속\n",
    "- casual : 미등록 사용자 대여수\n",
    "- registered : 등록된 사용자 대여수\n",
    "- count : 대여수\n",
    "\n",
    " "
   ]
  },
  {
   "cell_type": "code",
   "execution_count": null,
   "id": "84a6e781",
   "metadata": {},
   "outputs": [],
   "source": [
    "df_train_eda.head(3)"
   ]
  },
  {
   "cell_type": "code",
   "execution_count": null,
   "id": "71b064b1",
   "metadata": {},
   "outputs": [],
   "source": [
    "df_test.head(3)"
   ]
  },
  {
   "cell_type": "code",
   "execution_count": null,
   "id": "74bfcbc8",
   "metadata": {},
   "outputs": [],
   "source": [
    "df_submission.head(3)"
   ]
  },
  {
   "cell_type": "markdown",
   "id": "4b37f02e",
   "metadata": {},
   "source": [
    "# EDA"
   ]
  },
  {
   "cell_type": "markdown",
   "id": "8ca68f6a",
   "metadata": {},
   "source": [
    "## 데이터 타입 확인"
   ]
  },
  {
   "cell_type": "code",
   "execution_count": null,
   "id": "947b428a",
   "metadata": {},
   "outputs": [],
   "source": [
    "print(df_train_eda.shape, df_test.shape)\n",
    "print(\"훈련 데이터\")\n",
    "print(df_train_eda.dtypes)\n",
    "print(\"테스트 데이터\")\n",
    "print(df_test.dtypes)"
   ]
  },
  {
   "cell_type": "markdown",
   "id": "c390818a",
   "metadata": {},
   "source": [
    "## 결측치 확인"
   ]
  },
  {
   "cell_type": "code",
   "execution_count": null,
   "id": "00fe19e3",
   "metadata": {},
   "outputs": [],
   "source": [
    "print(df_train_eda.isnull().sum())"
   ]
  },
  {
   "cell_type": "code",
   "execution_count": null,
   "id": "f131c8f3",
   "metadata": {},
   "outputs": [],
   "source": [
    "print(df_test.isnull().sum())"
   ]
  },
  {
   "cell_type": "code",
   "execution_count": null,
   "id": "061c132d",
   "metadata": {},
   "outputs": [],
   "source": [
    "print(df_submission.isnull().sum())"
   ]
  },
  {
   "cell_type": "markdown",
   "id": "1d830d61",
   "metadata": {},
   "source": [
    "## datetime 에서 년,월,일,시간,분,초를 추출해 column 추가"
   ]
  },
  {
   "cell_type": "code",
   "execution_count": null,
   "id": "83e281e1",
   "metadata": {},
   "outputs": [],
   "source": [
    "df_train_eda['year'] = df_train_eda.index.year"
   ]
  },
  {
   "cell_type": "code",
   "execution_count": null,
   "id": "ed38d2c9",
   "metadata": {},
   "outputs": [],
   "source": [
    "df_train_eda['year'] = df_train_eda.index.year\n",
    "df_train_eda['month'] = df_train_eda.index.month\n",
    "df_train_eda['day'] = df_train_eda.index.day\n",
    "df_train_eda['hour'] = df_train_eda.index.hour\n",
    "df_train_eda['minute'] = df_train_eda.index.minute\n",
    "df_train_eda['second'] = df_train_eda.index.second"
   ]
  },
  {
   "cell_type": "code",
   "execution_count": null,
   "id": "58028cf5",
   "metadata": {},
   "outputs": [],
   "source": [
    "df_train_eda.head()"
   ]
  },
  {
   "cell_type": "markdown",
   "id": "0f029a79",
   "metadata": {},
   "source": [
    "## 연도별, 월별,시간별에 따른 대여량 평균치 분석"
   ]
  },
  {
   "cell_type": "code",
   "execution_count": null,
   "id": "eb1e50f4",
   "metadata": {},
   "outputs": [],
   "source": [
    "def bar_plot(df, x, ax):\n",
    "    fig = plt.figure(figsize=(5,3))\n",
    "    sns.barplot(data=df, x=x, y=\"count\", palette=\"Blues_d\", ax=ax)"
   ]
  },
  {
   "cell_type": "code",
   "execution_count": null,
   "id": "dde53426",
   "metadata": {},
   "outputs": [],
   "source": [
    "figure, ((ax1, ax2, ax3), (ax4, ax5, ax6)) = plt.subplots(nrows=2, ncols=3)\n",
    "figure.set_size_inches(18, 10)\n",
    "\n",
    "bar_plot(df_train_eda, \"year\", ax=ax1)\n",
    "bar_plot(df_train_eda, \"month\", ax=ax2)\n",
    "bar_plot(df_train_eda, \"day\", ax=ax3)\n",
    "bar_plot(df_train_eda, \"hour\", ax=ax4)\n",
    "bar_plot(df_train_eda, \"minute\", ax=ax5)\n",
    "bar_plot(df_train_eda, \"second\", ax=ax6)"
   ]
  },
  {
   "cell_type": "markdown",
   "id": "60c6e94b",
   "metadata": {},
   "source": [
    "## 연도별,월별,시간별에 따른 분석 결과"
   ]
  },
  {
   "cell_type": "markdown",
   "id": "90b1c935",
   "metadata": {},
   "source": [
    "- 연도별 : 2011년보다 2012년 대여량이 많아짐  \n",
    "- 월별 : 월별 대여량은 6월에 가장 많고, 따뜻한 계절(5~10월달)에 대여량이 많음\n",
    "- 일별 : 일별 대여량은 크게 차이점이 없고, 특징점 역시 없음.\n",
    "- 시간별 : 오전에는 8시에 가장 많고, 오후에는 17시~18시에 가장 많음"
   ]
  },
  {
   "cell_type": "markdown",
   "id": "6dbd38b1",
   "metadata": {},
   "source": [
    "## datetime을 기반으로 요일 추출"
   ]
  },
  {
   "cell_type": "code",
   "execution_count": null,
   "id": "8dccc28d",
   "metadata": {},
   "outputs": [],
   "source": [
    "df_train_eda['dayofweek'] = df_train_eda.index.dayofweek\n",
    "df_train_eda.head(3)"
   ]
  },
  {
   "cell_type": "markdown",
   "id": "0c9be73d",
   "metadata": {},
   "source": [
    "## 시간대별 자전거 대여량 (근무일 유무, 요일, 시즌, 날씨)"
   ]
  },
  {
   "cell_type": "code",
   "execution_count": null,
   "id": "d518fa70",
   "metadata": {},
   "outputs": [],
   "source": [
    "def point_plot(df, hue, ax):\n",
    "    sns.pointplot(data=df, x=\"hour\", y=\"count\", ax=ax, hue=hue)"
   ]
  },
  {
   "cell_type": "code",
   "execution_count": null,
   "id": "1129dfb6",
   "metadata": {},
   "outputs": [],
   "source": [
    "fig,(ax1, ax2, ax3, ax4)= plt.subplots(nrows=4)\n",
    "fig.set_size_inches(18,25)\n",
    "\n",
    "#sns.pointplot(df_train, ax=ax1)\n",
    "point_plot(df_train_eda, 'workingday', ax=ax1)\n",
    "point_plot(df_train_eda, 'dayofweek', ax=ax2)\n",
    "point_plot(df_train_eda, 'season', ax=ax3)\n",
    "point_plot(df_train_eda, 'weather', ax=ax4)"
   ]
  },
  {
   "cell_type": "markdown",
   "id": "2def98ba",
   "metadata": {},
   "source": [
    "앞선 시간대별 자전거 대여량 그래프를 보면 오전8시, 오후 5~6시에 가장 대여량이 많았다.\n",
    "\n",
    "근무일, 요일, 분기, 날씨에 따른 대여량에 대한 분석  \n",
    "- 근무일에는 출근시간(8시), 퇴근시간(17 ~ 18시)에 가장 대여량이 높았고, 휴무일에는 12 ~ 16시에 가장 대여를 많이했다.\n",
    "- 평일은 근무일 대여량, 주말은 휴무일 대여량에 따르는 것을 확인할 수 있다.\n",
    "- 3분기(7 ~ 9월)에 가장 대여를 많이하고, 1분기(1 ~ 3월)에 가장 적게 대여를 하는 것을 볼 수 있다.\n",
    "- 날씨가 좋을 수록 대여를 많이하고, 좋지 않을 때는 대여를 많이 안한다."
   ]
  },
  {
   "cell_type": "markdown",
   "id": "6813c4c6",
   "metadata": {},
   "source": [
    "# EDA 분석 끝 다시 원본 데이터 불러오기"
   ]
  },
  {
   "cell_type": "code",
   "execution_count": null,
   "id": "b53cba3b",
   "metadata": {},
   "outputs": [],
   "source": [
    "df_train = pd.read_csv(path + \"train.csv\", parse_dates = ['datetime'],\n",
    "                       index_col='datetime', infer_datetime_format=True)"
   ]
  },
  {
   "cell_type": "code",
   "execution_count": null,
   "id": "95f63aa1",
   "metadata": {},
   "outputs": [],
   "source": [
    "df_train.shape"
   ]
  },
  {
   "cell_type": "code",
   "execution_count": null,
   "id": "1b661c43",
   "metadata": {},
   "outputs": [],
   "source": [
    "df_train.tail()"
   ]
  },
  {
   "cell_type": "markdown",
   "id": "73689c51",
   "metadata": {},
   "source": [
    "### df_train데이터는 한 시간 단위로 2011-01-01 00:00:00  ~ 2012-12-19 23 23:00:00 ( 1일부터19일)\n",
    "### 즉, 2(years) * 12(month) * 19(days) * 24(hours) =  10944(timestep)이어야한다.\n",
    "### 하지만 df_train데이터는 10886(timestep) 이므로 중간에 누락된 정보가 있다.\n",
    "### 따라서 (10944-10886) = 58개의 timestep을 채워야 한다."
   ]
  },
  {
   "cell_type": "code",
   "execution_count": null,
   "id": "08404972",
   "metadata": {},
   "outputs": [],
   "source": [
    "num_months_per_year = 12\n",
    "year_list = [2011, 2012]"
   ]
  },
  {
   "cell_type": "code",
   "execution_count": null,
   "id": "4d7d69e9",
   "metadata": {},
   "outputs": [],
   "source": [
    "df_train_temp = pd.DataFrame(columns=df_train.columns)\n",
    "\n",
    "for year in year_list: # 2011 2012\n",
    "    for month in range(num_months_per_year):# 0~11\n",
    "        start_date = datetime.datetime(year, month+1, 1, 0, 0, 0)\n",
    "        end_date = datetime.datetime(year, month+1, 19, 23, 0, 0)\n",
    "        temp = df_train[start_date:end_date].resample('H').asfreq()\n",
    "        df_train_temp = df_train_temp.append(temp)\n",
    "        \n",
    "train_data = df_train_temp"
   ]
  },
  {
   "cell_type": "code",
   "execution_count": null,
   "id": "321389e9",
   "metadata": {},
   "outputs": [],
   "source": [
    "train_data.shape"
   ]
  },
  {
   "cell_type": "markdown",
   "id": "68316c86",
   "metadata": {},
   "source": [
    "### 채워준 timestep의 결측치를 채워야한다."
   ]
  },
  {
   "cell_type": "code",
   "execution_count": null,
   "id": "8c4d0794",
   "metadata": {},
   "outputs": [],
   "source": [
    "train_data.isna().sum()"
   ]
  },
  {
   "cell_type": "code",
   "execution_count": null,
   "id": "f9eababc",
   "metadata": {},
   "outputs": [],
   "source": [
    "null_feature = train_data[train_data['count'].isnull()].index\n",
    "null_feature"
   ]
  },
  {
   "cell_type": "markdown",
   "id": "a8f62050",
   "metadata": {},
   "source": [
    "### season, holiday, workingday, weather들은 backfill로 채운다.(같은 날짜 이기 때문)"
   ]
  },
  {
   "cell_type": "code",
   "execution_count": null,
   "id": "5ca71408",
   "metadata": {},
   "outputs": [],
   "source": [
    "backfill_features = ['season', 'holiday', 'workingday', 'weather']\n",
    "train_data[backfill_features] = train_data[backfill_features].fillna(method='backfill')"
   ]
  },
  {
   "cell_type": "markdown",
   "id": "37f9c603",
   "metadata": {},
   "source": [
    "### temp, atemp, humidity, windspeed 들은 linear로 채운다."
   ]
  },
  {
   "cell_type": "code",
   "execution_count": null,
   "id": "b8d135d5",
   "metadata": {},
   "outputs": [],
   "source": [
    "fill_linear_features = ['temp', 'atemp', 'humidity', 'windspeed']\n",
    "train_data[fill_linear_features] = train_data[fill_linear_features].interpolate(method='linear')"
   ]
  },
  {
   "cell_type": "markdown",
   "id": "6474d2e4",
   "metadata": {},
   "source": [
    "### 문제는 casual, registered, count들이다.\n",
    "### target값과 연관된 column이기 때문에 머신러닝 기법을 활용해 채운다.\n",
    "### casual, registered 들의 합은 count이기 때문에 drop한다."
   ]
  },
  {
   "cell_type": "code",
   "execution_count": null,
   "id": "99f39b0d",
   "metadata": {},
   "outputs": [],
   "source": [
    "null_df = train_data.loc[null_feature]\n",
    "null_df = null_df.drop(\"casual\",axis=1)\n",
    "null_df = null_df.drop(\"registered\",axis=1)\n",
    "null_df.head() # "
   ]
  },
  {
   "cell_type": "code",
   "execution_count": null,
   "id": "2db12576",
   "metadata": {},
   "outputs": [],
   "source": [
    "full_df = train_data.drop(index = null_feature)\n",
    "full_df = full_df.drop(\"casual\",axis=1)\n",
    "full_df = full_df.drop(\"registered\",axis=1)\n",
    "full_df.head() "
   ]
  },
  {
   "cell_type": "markdown",
   "id": "401de6f7",
   "metadata": {},
   "source": [
    "## EDA분석에서 시간대별 대여량에 영향이 있는  column을 갖고온다."
   ]
  },
  {
   "cell_type": "code",
   "execution_count": null,
   "id": "77bf7943",
   "metadata": {},
   "outputs": [],
   "source": [
    "null_df['year'] = null_df.index.year\n",
    "null_df['month'] = null_df.index.month\n",
    "null_df['day'] = null_df.index.day\n",
    "null_df['hour'] = null_df.index.hour\n",
    "\n",
    "full_df['year'] = full_df.index.year\n",
    "full_df['month'] = full_df.index.month\n",
    "full_df['day'] = full_df.index.day\n",
    "full_df['hour'] = full_df.index.hour"
   ]
  },
  {
   "cell_type": "code",
   "execution_count": null,
   "id": "e54b9c5f",
   "metadata": {},
   "outputs": [],
   "source": [
    "X = full_df.drop(\"count\", axis=1)\n",
    "X"
   ]
  },
  {
   "cell_type": "code",
   "execution_count": null,
   "id": "755b5f9b",
   "metadata": {},
   "outputs": [],
   "source": [
    "y = full_df[\"count\"]\n",
    "y"
   ]
  },
  {
   "cell_type": "markdown",
   "id": "c6c4109a",
   "metadata": {},
   "source": [
    "## randomforest 학습"
   ]
  },
  {
   "cell_type": "code",
   "execution_count": null,
   "id": "a3b4dacc",
   "metadata": {},
   "outputs": [],
   "source": [
    "from sklearn.model_selection import train_test_split"
   ]
  },
  {
   "cell_type": "markdown",
   "id": "2d799ebd",
   "metadata": {},
   "source": [
    "### 데이터 split"
   ]
  },
  {
   "cell_type": "code",
   "execution_count": null,
   "id": "cfb00626",
   "metadata": {},
   "outputs": [],
   "source": [
    "X_train, X_test, y_train, y_test = train_test_split(X, y, test_size = 0.2, random_state = 42)"
   ]
  },
  {
   "cell_type": "markdown",
   "id": "94dcebb8",
   "metadata": {},
   "source": [
    "### 필요한 라이브러리"
   ]
  },
  {
   "cell_type": "code",
   "execution_count": null,
   "id": "dfb09a29",
   "metadata": {},
   "outputs": [],
   "source": [
    "from sklearn.ensemble import RandomForestRegressor\n",
    "from sklearn.model_selection import GridSearchCV  # 매개변수를 자동으로 변수 설정해서 최적 찾기 위한 방법\n",
    "from sklearn.model_selection import KFold  # 몇번 나눌지\n",
    "from sklearn.metrics import r2_score, mean_squared_error  # SVR 모델의 예측과 실제의 결과를 확인하는 성능지표\n",
    "\n",
    "def rmsle(y,pred):\n",
    "    log_y = np.log1p(y)\n",
    "    log_pred = np.log1p(pred)\n",
    "    squared_error = (log_y - log_pred)**2\n",
    "    rmsle = np.sqrt(np.mean(squared_error))\n",
    "    return rmsle"
   ]
  },
  {
   "cell_type": "code",
   "execution_count": null,
   "id": "88ebd41c",
   "metadata": {},
   "outputs": [],
   "source": [
    "seed = 2021"
   ]
  },
  {
   "cell_type": "markdown",
   "id": "44ef69cc",
   "metadata": {},
   "source": [
    "### random_grid 파라미터 값 설정"
   ]
  },
  {
   "cell_type": "code",
   "execution_count": null,
   "id": "a23132fa",
   "metadata": {},
   "outputs": [],
   "source": [
    "\"\"\"\n",
    "# 랜덤 포레스트의 트리 수 \n",
    "n_estimators = [int(x) for x in np.linspace(start = 100, stop = 1000, num = 100)] \n",
    "# 모든 분할에서 고려해야 할 기능의 수 \n",
    "max_features = ['auto', ' qrt '] \n",
    "# 트리의 최대 레벨 수 \n",
    "max_depth = [int(x) for x in np.linspace(10, 11, num = 11)] \n",
    "max_depth.append(None) \n",
    "# 노드를 분할하는 데 필요한 최소 샘플 수 \n",
    "min_samples_split = [2, 5, 10] \n",
    "# 각 리프 노드에 필요한 최소 샘플 수 \n",
    "min_samples_leaf = [1, 2, 4] \n",
    "# 각 트리 \n",
    "# 부트스트랩 훈련을 위한 샘플 선택 방법 = [True, False]\n",
    "# 랜덤 그리드 생성 \n",
    "random_grid = {'n_estimators': n_estimators, \n",
    "               'max_features': max_features, \n",
    "               'max_depth': max_depth, \n",
    "               'min_samples_split': min_samples_split, \n",
    "               'min_samples_leaf': min_samples_leaf, \n",
    "               }\"\"\""
   ]
  },
  {
   "cell_type": "code",
   "execution_count": null,
   "id": "9aa8bc59",
   "metadata": {},
   "outputs": [],
   "source": [
    "random_grid = {'n_estimators': [100], \n",
    "               'max_features': [\"auto\"], \n",
    "               'max_depth': [10], \n",
    "               'min_samples_split': [2], \n",
    "               'min_samples_leaf': [1], \n",
    "               }"
   ]
  },
  {
   "cell_type": "code",
   "execution_count": null,
   "id": "831081da",
   "metadata": {},
   "outputs": [],
   "source": [
    "rf = RandomForestRegressor(random_state=seed, bootstrap=True)\n",
    "cv = KFold(n_splits = 5, shuffle = True, random_state=seed)\n",
    "\n",
    "grid=GridSearchCV(estimator=rf,\n",
    "                 param_grid=random_grid,\n",
    "                 cv=cv)\n",
    "\n",
    "grid.fit(X_train, y_train)"
   ]
  },
  {
   "cell_type": "markdown",
   "id": "49048165",
   "metadata": {},
   "source": [
    "## best param 값 "
   ]
  },
  {
   "cell_type": "code",
   "execution_count": null,
   "id": "2088cf57",
   "metadata": {},
   "outputs": [],
   "source": [
    "best_parameters =grid.best_params_\n",
    "print(best_parameters)"
   ]
  },
  {
   "cell_type": "markdown",
   "id": "08fe4252",
   "metadata": {},
   "source": [
    "## final model에 다시 적용"
   ]
  },
  {
   "cell_type": "code",
   "execution_count": null,
   "id": "e72e34bf",
   "metadata": {},
   "outputs": [],
   "source": [
    "final_model=RandomForestRegressor(**best_parameters, random_state=seed)\n",
    "final_model.fit(X_train, y_train)\n",
    "\n",
    "predict = final_model.predict(X_test)"
   ]
  },
  {
   "cell_type": "code",
   "execution_count": null,
   "id": "2d6b59df",
   "metadata": {},
   "outputs": [],
   "source": [
    "Score=r2_score(y_test,predict)\n",
    "Rmsle = rmsle(y_test,predict)\n",
    "print(\"r2 score:{:0.3f}, rmsle:{:0.3f}\".format(Score, Rmsle))"
   ]
  },
  {
   "cell_type": "markdown",
   "id": "41f291cc",
   "metadata": {},
   "source": [
    "# 이후로는 RNN"
   ]
  },
  {
   "cell_type": "code",
   "execution_count": null,
   "id": "32cca577",
   "metadata": {},
   "outputs": [],
   "source": [
    "\"\"\"null_df_train = null_df.drop(\"count\", axis=1)\n",
    "null_df_test_predict = final_model.predict(null_df_train)\n",
    "null_df[\"count\"] = null_df_test_predict\n",
    "null_df[\"count\"] = round(null_df[\"count\"])\n",
    "data = pd.concat([null_df, full_df]).sort_index(ascending=True)\n",
    "drop_features = ['year','month','day','hour']\n",
    "data = data.drop(drop_features, axis=1)\n",
    "data.to_csv(\"train_2.csv\")\"\"\""
   ]
  },
  {
   "cell_type": "code",
   "execution_count": null,
   "id": "411a986b",
   "metadata": {},
   "outputs": [],
   "source": [
    "# 이제 이 데이터로 RNN을 학습함 \n",
    "# data.to_csv(\"pre_processing_train.csv\")"
   ]
  }
 ],
 "metadata": {
  "kernelspec": {
   "display_name": "Python 3 (ipykernel)",
   "language": "python",
   "name": "python3"
  },
  "language_info": {
   "codemirror_mode": {
    "name": "ipython",
    "version": 3
   },
   "file_extension": ".py",
   "mimetype": "text/x-python",
   "name": "python",
   "nbconvert_exporter": "python",
   "pygments_lexer": "ipython3",
   "version": "3.9.7"
  }
 },
 "nbformat": 4,
 "nbformat_minor": 5
}
